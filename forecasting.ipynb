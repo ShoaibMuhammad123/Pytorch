{
 "cells": [
  {
   "cell_type": "code",
   "execution_count": 1,
   "id": "2486b5c5",
   "metadata": {},
   "outputs": [],
   "source": [
    "import pandas as pd"
   ]
  },
  {
   "cell_type": "code",
   "execution_count": 2,
   "id": "4bfee127",
   "metadata": {},
   "outputs": [],
   "source": [
    "import chardet\n",
    "\n",
    "with open('stores_sales_forecasting.csv', 'rb') as f:\n",
    "    result = chardet.detect(f.read())\n"
   ]
  },
  {
   "cell_type": "code",
   "execution_count": 14,
   "id": "058087a5",
   "metadata": {},
   "outputs": [],
   "source": [
    "encoding = result['encoding']\n",
    "df = pd.read_csv('stores_sales_forecasting.csv', encoding=encoding)"
   ]
  },
  {
   "cell_type": "code",
   "execution_count": null,
   "id": "134563c1",
   "metadata": {},
   "outputs": [],
   "source": []
  },
  {
   "cell_type": "code",
   "execution_count": 15,
   "id": "3782d676",
   "metadata": {
    "scrolled": false
   },
   "outputs": [
    {
     "data": {
      "text/html": [
       "<div>\n",
       "<style scoped>\n",
       "    .dataframe tbody tr th:only-of-type {\n",
       "        vertical-align: middle;\n",
       "    }\n",
       "\n",
       "    .dataframe tbody tr th {\n",
       "        vertical-align: top;\n",
       "    }\n",
       "\n",
       "    .dataframe thead th {\n",
       "        text-align: right;\n",
       "    }\n",
       "</style>\n",
       "<table border=\"1\" class=\"dataframe\">\n",
       "  <thead>\n",
       "    <tr style=\"text-align: right;\">\n",
       "      <th></th>\n",
       "      <th>Row ID</th>\n",
       "      <th>Order ID</th>\n",
       "      <th>Order Date</th>\n",
       "      <th>Ship Date</th>\n",
       "      <th>Ship Mode</th>\n",
       "      <th>Customer ID</th>\n",
       "      <th>Customer Name</th>\n",
       "      <th>Segment</th>\n",
       "      <th>Country</th>\n",
       "      <th>City</th>\n",
       "      <th>...</th>\n",
       "      <th>Postal Code</th>\n",
       "      <th>Region</th>\n",
       "      <th>Product ID</th>\n",
       "      <th>Category</th>\n",
       "      <th>Sub-Category</th>\n",
       "      <th>Product Name</th>\n",
       "      <th>Sales</th>\n",
       "      <th>Quantity</th>\n",
       "      <th>Discount</th>\n",
       "      <th>Profit</th>\n",
       "    </tr>\n",
       "  </thead>\n",
       "  <tbody>\n",
       "    <tr>\n",
       "      <th>0</th>\n",
       "      <td>1</td>\n",
       "      <td>CA-2016-152156</td>\n",
       "      <td>11/8/2016</td>\n",
       "      <td>11/11/2016</td>\n",
       "      <td>Second Class</td>\n",
       "      <td>CG-12520</td>\n",
       "      <td>Claire Gute</td>\n",
       "      <td>Consumer</td>\n",
       "      <td>United States</td>\n",
       "      <td>Henderson</td>\n",
       "      <td>...</td>\n",
       "      <td>42420</td>\n",
       "      <td>South</td>\n",
       "      <td>FUR-BO-10001798</td>\n",
       "      <td>Furniture</td>\n",
       "      <td>Bookcases</td>\n",
       "      <td>Bush Somerset Collection Bookcase</td>\n",
       "      <td>261.9600</td>\n",
       "      <td>2</td>\n",
       "      <td>0.00</td>\n",
       "      <td>41.9136</td>\n",
       "    </tr>\n",
       "    <tr>\n",
       "      <th>1</th>\n",
       "      <td>2</td>\n",
       "      <td>CA-2016-152156</td>\n",
       "      <td>11/8/2016</td>\n",
       "      <td>11/11/2016</td>\n",
       "      <td>Second Class</td>\n",
       "      <td>CG-12520</td>\n",
       "      <td>Claire Gute</td>\n",
       "      <td>Consumer</td>\n",
       "      <td>United States</td>\n",
       "      <td>Henderson</td>\n",
       "      <td>...</td>\n",
       "      <td>42420</td>\n",
       "      <td>South</td>\n",
       "      <td>FUR-CH-10000454</td>\n",
       "      <td>Furniture</td>\n",
       "      <td>Chairs</td>\n",
       "      <td>Hon Deluxe Fabric Upholstered Stacking Chairs,...</td>\n",
       "      <td>731.9400</td>\n",
       "      <td>3</td>\n",
       "      <td>0.00</td>\n",
       "      <td>219.5820</td>\n",
       "    </tr>\n",
       "    <tr>\n",
       "      <th>2</th>\n",
       "      <td>4</td>\n",
       "      <td>US-2015-108966</td>\n",
       "      <td>10/11/2015</td>\n",
       "      <td>10/18/2015</td>\n",
       "      <td>Standard Class</td>\n",
       "      <td>SO-20335</td>\n",
       "      <td>Sean O'Donnell</td>\n",
       "      <td>Consumer</td>\n",
       "      <td>United States</td>\n",
       "      <td>Fort Lauderdale</td>\n",
       "      <td>...</td>\n",
       "      <td>33311</td>\n",
       "      <td>South</td>\n",
       "      <td>FUR-TA-10000577</td>\n",
       "      <td>Furniture</td>\n",
       "      <td>Tables</td>\n",
       "      <td>Bretford CR4500 Series Slim Rectangular Table</td>\n",
       "      <td>957.5775</td>\n",
       "      <td>5</td>\n",
       "      <td>0.45</td>\n",
       "      <td>-383.0310</td>\n",
       "    </tr>\n",
       "    <tr>\n",
       "      <th>3</th>\n",
       "      <td>6</td>\n",
       "      <td>CA-2014-115812</td>\n",
       "      <td>6/9/2014</td>\n",
       "      <td>6/14/2014</td>\n",
       "      <td>Standard Class</td>\n",
       "      <td>BH-11710</td>\n",
       "      <td>Brosina Hoffman</td>\n",
       "      <td>Consumer</td>\n",
       "      <td>United States</td>\n",
       "      <td>Los Angeles</td>\n",
       "      <td>...</td>\n",
       "      <td>90032</td>\n",
       "      <td>West</td>\n",
       "      <td>FUR-FU-10001487</td>\n",
       "      <td>Furniture</td>\n",
       "      <td>Furnishings</td>\n",
       "      <td>Eldon Expressions Wood and Plastic Desk Access...</td>\n",
       "      <td>48.8600</td>\n",
       "      <td>7</td>\n",
       "      <td>0.00</td>\n",
       "      <td>14.1694</td>\n",
       "    </tr>\n",
       "    <tr>\n",
       "      <th>4</th>\n",
       "      <td>11</td>\n",
       "      <td>CA-2014-115812</td>\n",
       "      <td>6/9/2014</td>\n",
       "      <td>6/14/2014</td>\n",
       "      <td>Standard Class</td>\n",
       "      <td>BH-11710</td>\n",
       "      <td>Brosina Hoffman</td>\n",
       "      <td>Consumer</td>\n",
       "      <td>United States</td>\n",
       "      <td>Los Angeles</td>\n",
       "      <td>...</td>\n",
       "      <td>90032</td>\n",
       "      <td>West</td>\n",
       "      <td>FUR-TA-10001539</td>\n",
       "      <td>Furniture</td>\n",
       "      <td>Tables</td>\n",
       "      <td>Chromcraft Rectangular Conference Tables</td>\n",
       "      <td>1706.1840</td>\n",
       "      <td>9</td>\n",
       "      <td>0.20</td>\n",
       "      <td>85.3092</td>\n",
       "    </tr>\n",
       "  </tbody>\n",
       "</table>\n",
       "<p>5 rows × 21 columns</p>\n",
       "</div>"
      ],
      "text/plain": [
       "   Row ID        Order ID  Order Date   Ship Date       Ship Mode Customer ID  \\\n",
       "0       1  CA-2016-152156   11/8/2016  11/11/2016    Second Class    CG-12520   \n",
       "1       2  CA-2016-152156   11/8/2016  11/11/2016    Second Class    CG-12520   \n",
       "2       4  US-2015-108966  10/11/2015  10/18/2015  Standard Class    SO-20335   \n",
       "3       6  CA-2014-115812    6/9/2014   6/14/2014  Standard Class    BH-11710   \n",
       "4      11  CA-2014-115812    6/9/2014   6/14/2014  Standard Class    BH-11710   \n",
       "\n",
       "     Customer Name   Segment        Country             City  ... Postal Code  \\\n",
       "0      Claire Gute  Consumer  United States        Henderson  ...       42420   \n",
       "1      Claire Gute  Consumer  United States        Henderson  ...       42420   \n",
       "2   Sean O'Donnell  Consumer  United States  Fort Lauderdale  ...       33311   \n",
       "3  Brosina Hoffman  Consumer  United States      Los Angeles  ...       90032   \n",
       "4  Brosina Hoffman  Consumer  United States      Los Angeles  ...       90032   \n",
       "\n",
       "   Region       Product ID   Category Sub-Category  \\\n",
       "0   South  FUR-BO-10001798  Furniture    Bookcases   \n",
       "1   South  FUR-CH-10000454  Furniture       Chairs   \n",
       "2   South  FUR-TA-10000577  Furniture       Tables   \n",
       "3    West  FUR-FU-10001487  Furniture  Furnishings   \n",
       "4    West  FUR-TA-10001539  Furniture       Tables   \n",
       "\n",
       "                                        Product Name      Sales  Quantity  \\\n",
       "0                  Bush Somerset Collection Bookcase   261.9600         2   \n",
       "1  Hon Deluxe Fabric Upholstered Stacking Chairs,...   731.9400         3   \n",
       "2      Bretford CR4500 Series Slim Rectangular Table   957.5775         5   \n",
       "3  Eldon Expressions Wood and Plastic Desk Access...    48.8600         7   \n",
       "4           Chromcraft Rectangular Conference Tables  1706.1840         9   \n",
       "\n",
       "   Discount    Profit  \n",
       "0      0.00   41.9136  \n",
       "1      0.00  219.5820  \n",
       "2      0.45 -383.0310  \n",
       "3      0.00   14.1694  \n",
       "4      0.20   85.3092  \n",
       "\n",
       "[5 rows x 21 columns]"
      ]
     },
     "execution_count": 15,
     "metadata": {},
     "output_type": "execute_result"
    }
   ],
   "source": [
    "df.head()"
   ]
  },
  {
   "cell_type": "code",
   "execution_count": null,
   "id": "4583d58e",
   "metadata": {},
   "outputs": [],
   "source": []
  },
  {
   "cell_type": "code",
   "execution_count": 16,
   "id": "21d886d3",
   "metadata": {},
   "outputs": [],
   "source": [
    "df = df[['Order Date','Sub-Category','Region','City','Quantity','Discount','Sales']]"
   ]
  },
  {
   "cell_type": "code",
   "execution_count": 17,
   "id": "7a17cf6e",
   "metadata": {},
   "outputs": [
    {
     "data": {
      "text/html": [
       "<div>\n",
       "<style scoped>\n",
       "    .dataframe tbody tr th:only-of-type {\n",
       "        vertical-align: middle;\n",
       "    }\n",
       "\n",
       "    .dataframe tbody tr th {\n",
       "        vertical-align: top;\n",
       "    }\n",
       "\n",
       "    .dataframe thead th {\n",
       "        text-align: right;\n",
       "    }\n",
       "</style>\n",
       "<table border=\"1\" class=\"dataframe\">\n",
       "  <thead>\n",
       "    <tr style=\"text-align: right;\">\n",
       "      <th></th>\n",
       "      <th>Order Date</th>\n",
       "      <th>Sub-Category</th>\n",
       "      <th>Region</th>\n",
       "      <th>City</th>\n",
       "      <th>Quantity</th>\n",
       "      <th>Discount</th>\n",
       "      <th>Sales</th>\n",
       "    </tr>\n",
       "  </thead>\n",
       "  <tbody>\n",
       "    <tr>\n",
       "      <th>0</th>\n",
       "      <td>11/8/2016</td>\n",
       "      <td>Bookcases</td>\n",
       "      <td>South</td>\n",
       "      <td>Henderson</td>\n",
       "      <td>2</td>\n",
       "      <td>0.00</td>\n",
       "      <td>261.9600</td>\n",
       "    </tr>\n",
       "    <tr>\n",
       "      <th>1</th>\n",
       "      <td>11/8/2016</td>\n",
       "      <td>Chairs</td>\n",
       "      <td>South</td>\n",
       "      <td>Henderson</td>\n",
       "      <td>3</td>\n",
       "      <td>0.00</td>\n",
       "      <td>731.9400</td>\n",
       "    </tr>\n",
       "    <tr>\n",
       "      <th>2</th>\n",
       "      <td>10/11/2015</td>\n",
       "      <td>Tables</td>\n",
       "      <td>South</td>\n",
       "      <td>Fort Lauderdale</td>\n",
       "      <td>5</td>\n",
       "      <td>0.45</td>\n",
       "      <td>957.5775</td>\n",
       "    </tr>\n",
       "    <tr>\n",
       "      <th>3</th>\n",
       "      <td>6/9/2014</td>\n",
       "      <td>Furnishings</td>\n",
       "      <td>West</td>\n",
       "      <td>Los Angeles</td>\n",
       "      <td>7</td>\n",
       "      <td>0.00</td>\n",
       "      <td>48.8600</td>\n",
       "    </tr>\n",
       "    <tr>\n",
       "      <th>4</th>\n",
       "      <td>6/9/2014</td>\n",
       "      <td>Tables</td>\n",
       "      <td>West</td>\n",
       "      <td>Los Angeles</td>\n",
       "      <td>9</td>\n",
       "      <td>0.20</td>\n",
       "      <td>1706.1840</td>\n",
       "    </tr>\n",
       "  </tbody>\n",
       "</table>\n",
       "</div>"
      ],
      "text/plain": [
       "   Order Date Sub-Category Region             City  Quantity  Discount  \\\n",
       "0   11/8/2016    Bookcases  South        Henderson         2      0.00   \n",
       "1   11/8/2016       Chairs  South        Henderson         3      0.00   \n",
       "2  10/11/2015       Tables  South  Fort Lauderdale         5      0.45   \n",
       "3    6/9/2014  Furnishings   West      Los Angeles         7      0.00   \n",
       "4    6/9/2014       Tables   West      Los Angeles         9      0.20   \n",
       "\n",
       "       Sales  \n",
       "0   261.9600  \n",
       "1   731.9400  \n",
       "2   957.5775  \n",
       "3    48.8600  \n",
       "4  1706.1840  "
      ]
     },
     "execution_count": 17,
     "metadata": {},
     "output_type": "execute_result"
    }
   ],
   "source": [
    "df.head()"
   ]
  },
  {
   "cell_type": "code",
   "execution_count": 18,
   "id": "eb83a2c2",
   "metadata": {},
   "outputs": [
    {
     "name": "stdout",
     "output_type": "stream",
     "text": [
      "<class 'pandas.core.frame.DataFrame'>\n",
      "RangeIndex: 2121 entries, 0 to 2120\n",
      "Data columns (total 7 columns):\n",
      " #   Column        Non-Null Count  Dtype  \n",
      "---  ------        --------------  -----  \n",
      " 0   Order Date    2121 non-null   object \n",
      " 1   Sub-Category  2121 non-null   object \n",
      " 2   Region        2121 non-null   object \n",
      " 3   City          2121 non-null   object \n",
      " 4   Quantity      2121 non-null   int64  \n",
      " 5   Discount      2121 non-null   float64\n",
      " 6   Sales         2121 non-null   float64\n",
      "dtypes: float64(2), int64(1), object(4)\n",
      "memory usage: 116.1+ KB\n"
     ]
    }
   ],
   "source": [
    "df.info()"
   ]
  },
  {
   "cell_type": "code",
   "execution_count": 19,
   "id": "4bff1346",
   "metadata": {},
   "outputs": [],
   "source": [
    "df['Order Date'] = pd.to_datetime(df['Order Date'])"
   ]
  },
  {
   "cell_type": "code",
   "execution_count": 20,
   "id": "0a2831f3",
   "metadata": {},
   "outputs": [
    {
     "name": "stdout",
     "output_type": "stream",
     "text": [
      "<class 'pandas.core.frame.DataFrame'>\n",
      "RangeIndex: 2121 entries, 0 to 2120\n",
      "Data columns (total 7 columns):\n",
      " #   Column        Non-Null Count  Dtype         \n",
      "---  ------        --------------  -----         \n",
      " 0   Order Date    2121 non-null   datetime64[ns]\n",
      " 1   Sub-Category  2121 non-null   object        \n",
      " 2   Region        2121 non-null   object        \n",
      " 3   City          2121 non-null   object        \n",
      " 4   Quantity      2121 non-null   int64         \n",
      " 5   Discount      2121 non-null   float64       \n",
      " 6   Sales         2121 non-null   float64       \n",
      "dtypes: datetime64[ns](1), float64(2), int64(1), object(3)\n",
      "memory usage: 116.1+ KB\n"
     ]
    }
   ],
   "source": [
    "df.info()"
   ]
  },
  {
   "cell_type": "code",
   "execution_count": 21,
   "id": "e5d1b5ab",
   "metadata": {},
   "outputs": [
    {
     "data": {
      "text/plain": [
       "0       2016\n",
       "1       2016\n",
       "2       2015\n",
       "3       2014\n",
       "4       2014\n",
       "        ... \n",
       "2116    2015\n",
       "2117    2016\n",
       "2118    2015\n",
       "2119    2014\n",
       "2120    2017\n",
       "Name: Order Date, Length: 2121, dtype: int64"
      ]
     },
     "execution_count": 21,
     "metadata": {},
     "output_type": "execute_result"
    }
   ],
   "source": [
    "df['Order Date'].dt.year"
   ]
  },
  {
   "cell_type": "code",
   "execution_count": 22,
   "id": "ee6ab604",
   "metadata": {},
   "outputs": [],
   "source": [
    "# month and year fetching\n",
    "\n",
    "df['Month']  = df['Order Date'].dt.month\n",
    "df['Year']  = df['Order Date'].dt.year\n"
   ]
  },
  {
   "cell_type": "code",
   "execution_count": 24,
   "id": "090432b9",
   "metadata": {},
   "outputs": [],
   "source": [
    "df_copy = df.copy()\n",
    "month_df = df.copy()   # this is for monthly sales we are making this df"
   ]
  },
  {
   "cell_type": "code",
   "execution_count": 887,
   "id": "65c1c293",
   "metadata": {},
   "outputs": [],
   "source": [
    "df.drop('Order Date',axis=1,inplace=True)"
   ]
  },
  {
   "cell_type": "code",
   "execution_count": 888,
   "id": "1d279212",
   "metadata": {},
   "outputs": [
    {
     "data": {
      "text/html": [
       "<div>\n",
       "<style scoped>\n",
       "    .dataframe tbody tr th:only-of-type {\n",
       "        vertical-align: middle;\n",
       "    }\n",
       "\n",
       "    .dataframe tbody tr th {\n",
       "        vertical-align: top;\n",
       "    }\n",
       "\n",
       "    .dataframe thead th {\n",
       "        text-align: right;\n",
       "    }\n",
       "</style>\n",
       "<table border=\"1\" class=\"dataframe\">\n",
       "  <thead>\n",
       "    <tr style=\"text-align: right;\">\n",
       "      <th></th>\n",
       "      <th>Sub-Category</th>\n",
       "      <th>Region</th>\n",
       "      <th>City</th>\n",
       "      <th>Quantity</th>\n",
       "      <th>Discount</th>\n",
       "      <th>Sales</th>\n",
       "      <th>Month</th>\n",
       "      <th>Year</th>\n",
       "    </tr>\n",
       "  </thead>\n",
       "  <tbody>\n",
       "    <tr>\n",
       "      <th>0</th>\n",
       "      <td>Bookcases</td>\n",
       "      <td>South</td>\n",
       "      <td>Henderson</td>\n",
       "      <td>2</td>\n",
       "      <td>0.00</td>\n",
       "      <td>261.9600</td>\n",
       "      <td>11</td>\n",
       "      <td>2016</td>\n",
       "    </tr>\n",
       "    <tr>\n",
       "      <th>1</th>\n",
       "      <td>Chairs</td>\n",
       "      <td>South</td>\n",
       "      <td>Henderson</td>\n",
       "      <td>3</td>\n",
       "      <td>0.00</td>\n",
       "      <td>731.9400</td>\n",
       "      <td>11</td>\n",
       "      <td>2016</td>\n",
       "    </tr>\n",
       "    <tr>\n",
       "      <th>2</th>\n",
       "      <td>Tables</td>\n",
       "      <td>South</td>\n",
       "      <td>Fort Lauderdale</td>\n",
       "      <td>5</td>\n",
       "      <td>0.45</td>\n",
       "      <td>957.5775</td>\n",
       "      <td>10</td>\n",
       "      <td>2015</td>\n",
       "    </tr>\n",
       "    <tr>\n",
       "      <th>3</th>\n",
       "      <td>Furnishings</td>\n",
       "      <td>West</td>\n",
       "      <td>Los Angeles</td>\n",
       "      <td>7</td>\n",
       "      <td>0.00</td>\n",
       "      <td>48.8600</td>\n",
       "      <td>6</td>\n",
       "      <td>2014</td>\n",
       "    </tr>\n",
       "    <tr>\n",
       "      <th>4</th>\n",
       "      <td>Tables</td>\n",
       "      <td>West</td>\n",
       "      <td>Los Angeles</td>\n",
       "      <td>9</td>\n",
       "      <td>0.20</td>\n",
       "      <td>1706.1840</td>\n",
       "      <td>6</td>\n",
       "      <td>2014</td>\n",
       "    </tr>\n",
       "  </tbody>\n",
       "</table>\n",
       "</div>"
      ],
      "text/plain": [
       "  Sub-Category Region             City  Quantity  Discount      Sales  Month  \\\n",
       "0    Bookcases  South        Henderson         2      0.00   261.9600     11   \n",
       "1       Chairs  South        Henderson         3      0.00   731.9400     11   \n",
       "2       Tables  South  Fort Lauderdale         5      0.45   957.5775     10   \n",
       "3  Furnishings   West      Los Angeles         7      0.00    48.8600      6   \n",
       "4       Tables   West      Los Angeles         9      0.20  1706.1840      6   \n",
       "\n",
       "   Year  \n",
       "0  2016  \n",
       "1  2016  \n",
       "2  2015  \n",
       "3  2014  \n",
       "4  2014  "
      ]
     },
     "execution_count": 888,
     "metadata": {},
     "output_type": "execute_result"
    }
   ],
   "source": [
    "df.head()"
   ]
  },
  {
   "cell_type": "code",
   "execution_count": 889,
   "id": "a8ed0663",
   "metadata": {},
   "outputs": [
    {
     "data": {
      "text/plain": [
       "2017    686\n",
       "2016    562\n",
       "2015    452\n",
       "2014    421\n",
       "Name: Year, dtype: int64"
      ]
     },
     "execution_count": 889,
     "metadata": {},
     "output_type": "execute_result"
    }
   ],
   "source": [
    "df['Year'].value_counts()"
   ]
  },
  {
   "cell_type": "code",
   "execution_count": 890,
   "id": "189637a7",
   "metadata": {
    "scrolled": true
   },
   "outputs": [
    {
     "data": {
      "text/plain": [
       "Year  Month\n",
       "2014  1         6242.5250\n",
       "      2         1839.6580\n",
       "      3        14573.9560\n",
       "      4         7944.8370\n",
       "      5         6912.7870\n",
       "      6        13206.1256\n",
       "      7        10821.0510\n",
       "      8         7320.3465\n",
       "      9        23816.4808\n",
       "      10       12304.2470\n",
       "      11       21564.8727\n",
       "      12       30645.9665\n",
       "2015  1        11739.9416\n",
       "      2         3134.3740\n",
       "      3        12499.7830\n",
       "      4        10475.6985\n",
       "      5         9374.9505\n",
       "      6         7714.1790\n",
       "      7        13674.4200\n",
       "      8         9638.5922\n",
       "      9        26273.0230\n",
       "      10       12026.6235\n",
       "      11       30880.8325\n",
       "      12       23085.8192\n",
       "2016  1         7622.7430\n",
       "      2         3925.5510\n",
       "      3        12801.0920\n",
       "      4        13212.0900\n",
       "      5        15119.8350\n",
       "      6        13070.5720\n",
       "      7        13068.5190\n",
       "      8        12483.2323\n",
       "      9        27262.8809\n",
       "      10       11872.5770\n",
       "      11       31783.6288\n",
       "      12       36678.7150\n",
       "2017  1         5964.0320\n",
       "      2         6866.3374\n",
       "      3        10893.4448\n",
       "      4         9065.9581\n",
       "      5        16957.5582\n",
       "      6        19008.5867\n",
       "      7        11813.0220\n",
       "      8        15441.8740\n",
       "      9        29028.2060\n",
       "      10       21884.0682\n",
       "      11       37056.7150\n",
       "      12       31407.4668\n",
       "Name: Sales, dtype: float64"
      ]
     },
     "execution_count": 890,
     "metadata": {},
     "output_type": "execute_result"
    }
   ],
   "source": [
    "df.groupby(['Year','Month'])['Sales'].sum()"
   ]
  },
  {
   "cell_type": "code",
   "execution_count": 891,
   "id": "0fd7590b",
   "metadata": {
    "scrolled": true
   },
   "outputs": [],
   "source": [
    "# finding sales on each month of each year \n",
    "\n",
    "sales_data = df.groupby(['Year','Month'])['Sales'].sum().reset_index()"
   ]
  },
  {
   "cell_type": "code",
   "execution_count": 909,
   "id": "2eea72cf",
   "metadata": {},
   "outputs": [],
   "source": [
    "import pandas as pd\n",
    "import numpy as np\n",
    "from sklearn.model_selection import train_test_split\n",
    "from sklearn.preprocessing import OneHotEncoder\n",
    "from sklearn.linear_model import LinearRegression\n",
    "from sklearn.metrics import mean_absolute_error, mean_squared_error, r2_score\n",
    "from sklearn.preprocessing import StandardScaler\n",
    "from sklearn.pipeline import Pipeline"
   ]
  },
  {
   "cell_type": "code",
   "execution_count": 893,
   "id": "a248514f",
   "metadata": {},
   "outputs": [
    {
     "data": {
      "text/plain": [
       "New York City    192\n",
       "Los Angeles      154\n",
       "Philadelphia     111\n",
       "San Francisco    102\n",
       "Seattle           97\n",
       "Houston           81\n",
       "Chicago           68\n",
       "Columbus          48\n",
       "San Diego         46\n",
       "Detroit           28\n",
       "Name: City, dtype: int64"
      ]
     },
     "execution_count": 893,
     "metadata": {},
     "output_type": "execute_result"
    }
   ],
   "source": [
    "df['City'].value_counts().head(10)"
   ]
  },
  {
   "cell_type": "code",
   "execution_count": null,
   "id": "2861069b",
   "metadata": {},
   "outputs": [],
   "source": []
  },
  {
   "cell_type": "markdown",
   "id": "a3c87867",
   "metadata": {},
   "source": [
    "# Techniques to Increase model performance"
   ]
  },
  {
   "cell_type": "markdown",
   "id": "7ff70b8c",
   "metadata": {},
   "source": [
    "--------------------------------------------------------------------------------------------------------------------------"
   ]
  },
  {
   "cell_type": "markdown",
   "id": "bce04524",
   "metadata": {},
   "source": [
    "- Too many columns(382) that is why the accuracy is too low and cause overfitting\n",
    "\n",
    "**This is now solved by reducing the city columns from 382 to 22 and increase accuracy from 51-64**\n",
    "\n",
    "- Now we Scale the data for imporoving the model performance again\n",
    "\n",
    "**I scalled the Quantity column but it not increase the R2 score**\n",
    "\n",
    "- Now i checked that out mean of sales columns is 349 and median is 182 this show there is an outlier we have to correct it\n",
    "\n",
    "**When i replaced the outliers with the middle or medain value then it reduce the accuracy again from 63 - 53 both on train and \n",
    "test**\n",
    "\n",
    "- Now we try to apply other algorithm to imporve this accuray"
   ]
  },
  {
   "cell_type": "markdown",
   "id": "4407f3e5",
   "metadata": {},
   "source": [
    "---------------------------------------------------------------------------------------------------------------------"
   ]
  },
  {
   "cell_type": "markdown",
   "id": "c3398ff5",
   "metadata": {},
   "source": [
    "# Because of this mapping we increase the R 2 score 51 to 63\n"
   ]
  },
  {
   "cell_type": "markdown",
   "id": "c0a215f2",
   "metadata": {},
   "source": [
    "* Try it by commenting out this one \n",
    "* Because it reduce the columns from 382 to 22"
   ]
  },
  {
   "cell_type": "code",
   "execution_count": 894,
   "id": "fd1e3dbc",
   "metadata": {},
   "outputs": [],
   "source": [
    "df['City'] = df['City'].map({'New York City':'New York City','Los Angeles':'Los Angeles','Philadelphia':'Philadelphia','San Francisco':\n",
    "                'San Francisco','Seattle':'Seattle','Houston':'Houston','Chicago':'Chicago','Columbus':'Columbus','San Diego':\n",
    "                'San Diego','Detroit':'Detroit'}).fillna('Other')"
   ]
  },
  {
   "cell_type": "code",
   "execution_count": 895,
   "id": "9eb8e948",
   "metadata": {
    "scrolled": true
   },
   "outputs": [
    {
     "data": {
      "text/plain": [
       "Other            1194\n",
       "New York City     192\n",
       "Los Angeles       154\n",
       "Philadelphia      111\n",
       "San Francisco     102\n",
       "Seattle            97\n",
       "Houston            81\n",
       "Chicago            68\n",
       "Columbus           48\n",
       "San Diego          46\n",
       "Detroit            28\n",
       "Name: City, dtype: int64"
      ]
     },
     "execution_count": 895,
     "metadata": {},
     "output_type": "execute_result"
    }
   ],
   "source": [
    "df['City'].value_counts()"
   ]
  },
  {
   "cell_type": "markdown",
   "id": "068bb446",
   "metadata": {},
   "source": [
    "# Scalling Year column"
   ]
  },
  {
   "cell_type": "code",
   "execution_count": 896,
   "id": "ecbc4f1c",
   "metadata": {},
   "outputs": [],
   "source": [
    "# df['Year'] = df['Year'].map({2014:4,2015:5,2016:6,2017:7})"
   ]
  },
  {
   "cell_type": "code",
   "execution_count": 897,
   "id": "99093bc3",
   "metadata": {
    "scrolled": true
   },
   "outputs": [],
   "source": [
    "# df['Year'].value_counts()"
   ]
  },
  {
   "cell_type": "markdown",
   "id": "7e097523",
   "metadata": {},
   "source": [
    "# Outlier Handling in Sales Columns"
   ]
  },
  {
   "cell_type": "code",
   "execution_count": 898,
   "id": "18f7acef",
   "metadata": {},
   "outputs": [
    {
     "data": {
      "text/plain": [
       "\"\\nq1 = df['Sales'].quantile(.25)\\nq3 = df['Sales'].quantile(.75)\\n\\niqr = q3-q1\\n\\nLower_limit = q1-1.5 *iqr \\n\\nUpper_limit = q3+1.5 *iqr \\n\\nmedian  = df['Sales'].median()\\n\\ndf['Sales'] = df['Sales'].apply(lambda x: median if x<Lower_limit or x>Upper_limit else x)\\n\""
      ]
     },
     "execution_count": 898,
     "metadata": {},
     "output_type": "execute_result"
    }
   ],
   "source": [
    "# this technique reduce the accuracy again that's why we comment it out\n",
    "\"\"\"\n",
    "q1 = df['Sales'].quantile(.25)\n",
    "q3 = df['Sales'].quantile(.75)\n",
    "\n",
    "iqr = q3-q1\n",
    "\n",
    "Lower_limit = q1-1.5 *iqr \n",
    "\n",
    "Upper_limit = q3+1.5 *iqr \n",
    "\n",
    "median  = df['Sales'].median()\n",
    "\n",
    "df['Sales'] = df['Sales'].apply(lambda x: median if x<Lower_limit or x>Upper_limit else x)\n",
    "\"\"\"\n"
   ]
  },
  {
   "cell_type": "code",
   "execution_count": 899,
   "id": "85179e2e",
   "metadata": {},
   "outputs": [],
   "source": [
    "# # Encode categorical variables\n",
    "# df = pd.get_dummies(df, columns=['Sub-Category', 'Region','City'], drop_first=True)"
   ]
  },
  {
   "cell_type": "code",
   "execution_count": 900,
   "id": "7ae75364",
   "metadata": {
    "scrolled": false
   },
   "outputs": [
    {
     "data": {
      "text/html": [
       "<div>\n",
       "<style scoped>\n",
       "    .dataframe tbody tr th:only-of-type {\n",
       "        vertical-align: middle;\n",
       "    }\n",
       "\n",
       "    .dataframe tbody tr th {\n",
       "        vertical-align: top;\n",
       "    }\n",
       "\n",
       "    .dataframe thead th {\n",
       "        text-align: right;\n",
       "    }\n",
       "</style>\n",
       "<table border=\"1\" class=\"dataframe\">\n",
       "  <thead>\n",
       "    <tr style=\"text-align: right;\">\n",
       "      <th></th>\n",
       "      <th>Sub-Category</th>\n",
       "      <th>Region</th>\n",
       "      <th>City</th>\n",
       "      <th>Quantity</th>\n",
       "      <th>Discount</th>\n",
       "      <th>Sales</th>\n",
       "      <th>Month</th>\n",
       "      <th>Year</th>\n",
       "    </tr>\n",
       "  </thead>\n",
       "  <tbody>\n",
       "    <tr>\n",
       "      <th>0</th>\n",
       "      <td>Bookcases</td>\n",
       "      <td>South</td>\n",
       "      <td>Other</td>\n",
       "      <td>2</td>\n",
       "      <td>0.00</td>\n",
       "      <td>261.9600</td>\n",
       "      <td>11</td>\n",
       "      <td>2016</td>\n",
       "    </tr>\n",
       "    <tr>\n",
       "      <th>1</th>\n",
       "      <td>Chairs</td>\n",
       "      <td>South</td>\n",
       "      <td>Other</td>\n",
       "      <td>3</td>\n",
       "      <td>0.00</td>\n",
       "      <td>731.9400</td>\n",
       "      <td>11</td>\n",
       "      <td>2016</td>\n",
       "    </tr>\n",
       "    <tr>\n",
       "      <th>2</th>\n",
       "      <td>Tables</td>\n",
       "      <td>South</td>\n",
       "      <td>Other</td>\n",
       "      <td>5</td>\n",
       "      <td>0.45</td>\n",
       "      <td>957.5775</td>\n",
       "      <td>10</td>\n",
       "      <td>2015</td>\n",
       "    </tr>\n",
       "    <tr>\n",
       "      <th>3</th>\n",
       "      <td>Furnishings</td>\n",
       "      <td>West</td>\n",
       "      <td>Los Angeles</td>\n",
       "      <td>7</td>\n",
       "      <td>0.00</td>\n",
       "      <td>48.8600</td>\n",
       "      <td>6</td>\n",
       "      <td>2014</td>\n",
       "    </tr>\n",
       "    <tr>\n",
       "      <th>4</th>\n",
       "      <td>Tables</td>\n",
       "      <td>West</td>\n",
       "      <td>Los Angeles</td>\n",
       "      <td>9</td>\n",
       "      <td>0.20</td>\n",
       "      <td>1706.1840</td>\n",
       "      <td>6</td>\n",
       "      <td>2014</td>\n",
       "    </tr>\n",
       "    <tr>\n",
       "      <th>...</th>\n",
       "      <td>...</td>\n",
       "      <td>...</td>\n",
       "      <td>...</td>\n",
       "      <td>...</td>\n",
       "      <td>...</td>\n",
       "      <td>...</td>\n",
       "      <td>...</td>\n",
       "      <td>...</td>\n",
       "    </tr>\n",
       "    <tr>\n",
       "      <th>2116</th>\n",
       "      <td>Bookcases</td>\n",
       "      <td>Central</td>\n",
       "      <td>Houston</td>\n",
       "      <td>4</td>\n",
       "      <td>0.32</td>\n",
       "      <td>383.4656</td>\n",
       "      <td>3</td>\n",
       "      <td>2015</td>\n",
       "    </tr>\n",
       "    <tr>\n",
       "      <th>2117</th>\n",
       "      <td>Furnishings</td>\n",
       "      <td>East</td>\n",
       "      <td>Other</td>\n",
       "      <td>1</td>\n",
       "      <td>0.00</td>\n",
       "      <td>13.4000</td>\n",
       "      <td>12</td>\n",
       "      <td>2016</td>\n",
       "    </tr>\n",
       "    <tr>\n",
       "      <th>2118</th>\n",
       "      <td>Tables</td>\n",
       "      <td>South</td>\n",
       "      <td>Other</td>\n",
       "      <td>1</td>\n",
       "      <td>0.00</td>\n",
       "      <td>85.9800</td>\n",
       "      <td>9</td>\n",
       "      <td>2015</td>\n",
       "    </tr>\n",
       "    <tr>\n",
       "      <th>2119</th>\n",
       "      <td>Furnishings</td>\n",
       "      <td>South</td>\n",
       "      <td>Other</td>\n",
       "      <td>3</td>\n",
       "      <td>0.20</td>\n",
       "      <td>25.2480</td>\n",
       "      <td>1</td>\n",
       "      <td>2014</td>\n",
       "    </tr>\n",
       "    <tr>\n",
       "      <th>2120</th>\n",
       "      <td>Furnishings</td>\n",
       "      <td>West</td>\n",
       "      <td>Other</td>\n",
       "      <td>2</td>\n",
       "      <td>0.00</td>\n",
       "      <td>91.9600</td>\n",
       "      <td>2</td>\n",
       "      <td>2017</td>\n",
       "    </tr>\n",
       "  </tbody>\n",
       "</table>\n",
       "<p>2121 rows × 8 columns</p>\n",
       "</div>"
      ],
      "text/plain": [
       "     Sub-Category   Region         City  Quantity  Discount      Sales  Month  \\\n",
       "0       Bookcases    South        Other         2      0.00   261.9600     11   \n",
       "1          Chairs    South        Other         3      0.00   731.9400     11   \n",
       "2          Tables    South        Other         5      0.45   957.5775     10   \n",
       "3     Furnishings     West  Los Angeles         7      0.00    48.8600      6   \n",
       "4          Tables     West  Los Angeles         9      0.20  1706.1840      6   \n",
       "...           ...      ...          ...       ...       ...        ...    ...   \n",
       "2116    Bookcases  Central      Houston         4      0.32   383.4656      3   \n",
       "2117  Furnishings     East        Other         1      0.00    13.4000     12   \n",
       "2118       Tables    South        Other         1      0.00    85.9800      9   \n",
       "2119  Furnishings    South        Other         3      0.20    25.2480      1   \n",
       "2120  Furnishings     West        Other         2      0.00    91.9600      2   \n",
       "\n",
       "      Year  \n",
       "0     2016  \n",
       "1     2016  \n",
       "2     2015  \n",
       "3     2014  \n",
       "4     2014  \n",
       "...    ...  \n",
       "2116  2015  \n",
       "2117  2016  \n",
       "2118  2015  \n",
       "2119  2014  \n",
       "2120  2017  \n",
       "\n",
       "[2121 rows x 8 columns]"
      ]
     },
     "execution_count": 900,
     "metadata": {},
     "output_type": "execute_result"
    }
   ],
   "source": [
    "df"
   ]
  },
  {
   "cell_type": "code",
   "execution_count": 902,
   "id": "bc0c2c2d",
   "metadata": {},
   "outputs": [],
   "source": [
    "# Define X (features) and y (target)\n",
    "X = df.drop(['Sales'],axis=1)\n",
    "y = np.log(df['Sales'])"
   ]
  },
  {
   "cell_type": "code",
   "execution_count": 903,
   "id": "ea32b2cd",
   "metadata": {},
   "outputs": [
    {
     "data": {
      "text/html": [
       "<div>\n",
       "<style scoped>\n",
       "    .dataframe tbody tr th:only-of-type {\n",
       "        vertical-align: middle;\n",
       "    }\n",
       "\n",
       "    .dataframe tbody tr th {\n",
       "        vertical-align: top;\n",
       "    }\n",
       "\n",
       "    .dataframe thead th {\n",
       "        text-align: right;\n",
       "    }\n",
       "</style>\n",
       "<table border=\"1\" class=\"dataframe\">\n",
       "  <thead>\n",
       "    <tr style=\"text-align: right;\">\n",
       "      <th></th>\n",
       "      <th>Sub-Category</th>\n",
       "      <th>Region</th>\n",
       "      <th>City</th>\n",
       "      <th>Quantity</th>\n",
       "      <th>Discount</th>\n",
       "      <th>Month</th>\n",
       "      <th>Year</th>\n",
       "    </tr>\n",
       "  </thead>\n",
       "  <tbody>\n",
       "    <tr>\n",
       "      <th>0</th>\n",
       "      <td>Bookcases</td>\n",
       "      <td>South</td>\n",
       "      <td>Other</td>\n",
       "      <td>2</td>\n",
       "      <td>0.00</td>\n",
       "      <td>11</td>\n",
       "      <td>2016</td>\n",
       "    </tr>\n",
       "    <tr>\n",
       "      <th>1</th>\n",
       "      <td>Chairs</td>\n",
       "      <td>South</td>\n",
       "      <td>Other</td>\n",
       "      <td>3</td>\n",
       "      <td>0.00</td>\n",
       "      <td>11</td>\n",
       "      <td>2016</td>\n",
       "    </tr>\n",
       "    <tr>\n",
       "      <th>2</th>\n",
       "      <td>Tables</td>\n",
       "      <td>South</td>\n",
       "      <td>Other</td>\n",
       "      <td>5</td>\n",
       "      <td>0.45</td>\n",
       "      <td>10</td>\n",
       "      <td>2015</td>\n",
       "    </tr>\n",
       "    <tr>\n",
       "      <th>3</th>\n",
       "      <td>Furnishings</td>\n",
       "      <td>West</td>\n",
       "      <td>Los Angeles</td>\n",
       "      <td>7</td>\n",
       "      <td>0.00</td>\n",
       "      <td>6</td>\n",
       "      <td>2014</td>\n",
       "    </tr>\n",
       "    <tr>\n",
       "      <th>4</th>\n",
       "      <td>Tables</td>\n",
       "      <td>West</td>\n",
       "      <td>Los Angeles</td>\n",
       "      <td>9</td>\n",
       "      <td>0.20</td>\n",
       "      <td>6</td>\n",
       "      <td>2014</td>\n",
       "    </tr>\n",
       "  </tbody>\n",
       "</table>\n",
       "</div>"
      ],
      "text/plain": [
       "  Sub-Category Region         City  Quantity  Discount  Month  Year\n",
       "0    Bookcases  South        Other         2      0.00     11  2016\n",
       "1       Chairs  South        Other         3      0.00     11  2016\n",
       "2       Tables  South        Other         5      0.45     10  2015\n",
       "3  Furnishings   West  Los Angeles         7      0.00      6  2014\n",
       "4       Tables   West  Los Angeles         9      0.20      6  2014"
      ]
     },
     "execution_count": 903,
     "metadata": {},
     "output_type": "execute_result"
    }
   ],
   "source": [
    "X.head()"
   ]
  },
  {
   "cell_type": "markdown",
   "id": "7afc1f1e",
   "metadata": {},
   "source": [
    "# Scalling Features"
   ]
  },
  {
   "cell_type": "code",
   "execution_count": 904,
   "id": "d312a69f",
   "metadata": {},
   "outputs": [],
   "source": [
    "# scaler = StandardScaler()\n",
    "# X['Quantity'] = scaler.fit_transform(np.array(X['Quantity']).reshape(-1,1))\n"
   ]
  },
  {
   "cell_type": "code",
   "execution_count": 905,
   "id": "c4d5a177",
   "metadata": {
    "scrolled": false
   },
   "outputs": [
    {
     "data": {
      "text/html": [
       "<div>\n",
       "<style scoped>\n",
       "    .dataframe tbody tr th:only-of-type {\n",
       "        vertical-align: middle;\n",
       "    }\n",
       "\n",
       "    .dataframe tbody tr th {\n",
       "        vertical-align: top;\n",
       "    }\n",
       "\n",
       "    .dataframe thead th {\n",
       "        text-align: right;\n",
       "    }\n",
       "</style>\n",
       "<table border=\"1\" class=\"dataframe\">\n",
       "  <thead>\n",
       "    <tr style=\"text-align: right;\">\n",
       "      <th></th>\n",
       "      <th>Sub-Category</th>\n",
       "      <th>Region</th>\n",
       "      <th>City</th>\n",
       "      <th>Quantity</th>\n",
       "      <th>Discount</th>\n",
       "      <th>Month</th>\n",
       "      <th>Year</th>\n",
       "    </tr>\n",
       "  </thead>\n",
       "  <tbody>\n",
       "    <tr>\n",
       "      <th>0</th>\n",
       "      <td>Bookcases</td>\n",
       "      <td>South</td>\n",
       "      <td>Other</td>\n",
       "      <td>2</td>\n",
       "      <td>0.00</td>\n",
       "      <td>11</td>\n",
       "      <td>2016</td>\n",
       "    </tr>\n",
       "    <tr>\n",
       "      <th>1</th>\n",
       "      <td>Chairs</td>\n",
       "      <td>South</td>\n",
       "      <td>Other</td>\n",
       "      <td>3</td>\n",
       "      <td>0.00</td>\n",
       "      <td>11</td>\n",
       "      <td>2016</td>\n",
       "    </tr>\n",
       "    <tr>\n",
       "      <th>2</th>\n",
       "      <td>Tables</td>\n",
       "      <td>South</td>\n",
       "      <td>Other</td>\n",
       "      <td>5</td>\n",
       "      <td>0.45</td>\n",
       "      <td>10</td>\n",
       "      <td>2015</td>\n",
       "    </tr>\n",
       "    <tr>\n",
       "      <th>3</th>\n",
       "      <td>Furnishings</td>\n",
       "      <td>West</td>\n",
       "      <td>Los Angeles</td>\n",
       "      <td>7</td>\n",
       "      <td>0.00</td>\n",
       "      <td>6</td>\n",
       "      <td>2014</td>\n",
       "    </tr>\n",
       "    <tr>\n",
       "      <th>4</th>\n",
       "      <td>Tables</td>\n",
       "      <td>West</td>\n",
       "      <td>Los Angeles</td>\n",
       "      <td>9</td>\n",
       "      <td>0.20</td>\n",
       "      <td>6</td>\n",
       "      <td>2014</td>\n",
       "    </tr>\n",
       "    <tr>\n",
       "      <th>...</th>\n",
       "      <td>...</td>\n",
       "      <td>...</td>\n",
       "      <td>...</td>\n",
       "      <td>...</td>\n",
       "      <td>...</td>\n",
       "      <td>...</td>\n",
       "      <td>...</td>\n",
       "    </tr>\n",
       "    <tr>\n",
       "      <th>2116</th>\n",
       "      <td>Bookcases</td>\n",
       "      <td>Central</td>\n",
       "      <td>Houston</td>\n",
       "      <td>4</td>\n",
       "      <td>0.32</td>\n",
       "      <td>3</td>\n",
       "      <td>2015</td>\n",
       "    </tr>\n",
       "    <tr>\n",
       "      <th>2117</th>\n",
       "      <td>Furnishings</td>\n",
       "      <td>East</td>\n",
       "      <td>Other</td>\n",
       "      <td>1</td>\n",
       "      <td>0.00</td>\n",
       "      <td>12</td>\n",
       "      <td>2016</td>\n",
       "    </tr>\n",
       "    <tr>\n",
       "      <th>2118</th>\n",
       "      <td>Tables</td>\n",
       "      <td>South</td>\n",
       "      <td>Other</td>\n",
       "      <td>1</td>\n",
       "      <td>0.00</td>\n",
       "      <td>9</td>\n",
       "      <td>2015</td>\n",
       "    </tr>\n",
       "    <tr>\n",
       "      <th>2119</th>\n",
       "      <td>Furnishings</td>\n",
       "      <td>South</td>\n",
       "      <td>Other</td>\n",
       "      <td>3</td>\n",
       "      <td>0.20</td>\n",
       "      <td>1</td>\n",
       "      <td>2014</td>\n",
       "    </tr>\n",
       "    <tr>\n",
       "      <th>2120</th>\n",
       "      <td>Furnishings</td>\n",
       "      <td>West</td>\n",
       "      <td>Other</td>\n",
       "      <td>2</td>\n",
       "      <td>0.00</td>\n",
       "      <td>2</td>\n",
       "      <td>2017</td>\n",
       "    </tr>\n",
       "  </tbody>\n",
       "</table>\n",
       "<p>2121 rows × 7 columns</p>\n",
       "</div>"
      ],
      "text/plain": [
       "     Sub-Category   Region         City  Quantity  Discount  Month  Year\n",
       "0       Bookcases    South        Other         2      0.00     11  2016\n",
       "1          Chairs    South        Other         3      0.00     11  2016\n",
       "2          Tables    South        Other         5      0.45     10  2015\n",
       "3     Furnishings     West  Los Angeles         7      0.00      6  2014\n",
       "4          Tables     West  Los Angeles         9      0.20      6  2014\n",
       "...           ...      ...          ...       ...       ...    ...   ...\n",
       "2116    Bookcases  Central      Houston         4      0.32      3  2015\n",
       "2117  Furnishings     East        Other         1      0.00     12  2016\n",
       "2118       Tables    South        Other         1      0.00      9  2015\n",
       "2119  Furnishings    South        Other         3      0.20      1  2014\n",
       "2120  Furnishings     West        Other         2      0.00      2  2017\n",
       "\n",
       "[2121 rows x 7 columns]"
      ]
     },
     "execution_count": 905,
     "metadata": {},
     "output_type": "execute_result"
    }
   ],
   "source": [
    "X"
   ]
  },
  {
   "cell_type": "code",
   "execution_count": 906,
   "id": "bef4475e",
   "metadata": {},
   "outputs": [],
   "source": [
    "\n",
    "# Split data into training & testing sets (80% train, 20% test)\n",
    "X_train, X_test, y_train, y_test = train_test_split(X, y, test_size=0.2, random_state=42)\n"
   ]
  },
  {
   "cell_type": "markdown",
   "id": "90e4e5a9",
   "metadata": {},
   "source": [
    "## Pipeline for training and and testing"
   ]
  },
  {
   "cell_type": "code",
   "execution_count": 935,
   "id": "1a3098dd",
   "metadata": {},
   "outputs": [
    {
     "name": "stdout",
     "output_type": "stream",
     "text": [
      "Mean Absolute Error: 0.71\n",
      "Mean Squared Error: 0.81\n",
      "R-squared Score: 0.63\n"
     ]
    }
   ],
   "source": [
    "step1 = ColumnTransformer(transformers=[\n",
    "    ('trf1',OneHotEncoder(sparse=False,drop='first',handle_unknown='ignore'),[0,1,2])\n",
    "],remainder='passthrough')\n",
    "\n",
    "step2 = LinearRegression()\n",
    "\n",
    "pipe = Pipeline([\n",
    "    ('step1',step1),\n",
    "    ('step2',step2)\n",
    "])\n",
    "\n",
    "pipe.fit(X_train,y_train)\n",
    "\n",
    "y_pred = pipe.predict(X_test)\n",
    "\n",
    "\n",
    "# Evaluate the modelon Test Data\n",
    "\n",
    "mae = mean_absolute_error(y_test, y_pred)\n",
    "mse = mean_squared_error(y_test, y_pred)\n",
    "r2 = r2_score(y_test, y_pred)\n",
    "\n",
    "print(f\"Mean Absolute Error: {mae:.2f}\")\n",
    "print(f\"Mean Squared Error: {mse:.2f}\")\n",
    "print(f\"R-squared Score: {r2:.2f}\")\n",
    "\n"
   ]
  },
  {
   "cell_type": "code",
   "execution_count": null,
   "id": "7968d8a4",
   "metadata": {},
   "outputs": [],
   "source": []
  },
  {
   "cell_type": "code",
   "execution_count": null,
   "id": "dab1dddc",
   "metadata": {},
   "outputs": [],
   "source": []
  },
  {
   "cell_type": "code",
   "execution_count": null,
   "id": "5b4ea144",
   "metadata": {},
   "outputs": [],
   "source": []
  },
  {
   "cell_type": "code",
   "execution_count": 23,
   "id": "77bb0aed",
   "metadata": {},
   "outputs": [
    {
     "ename": "NameError",
     "evalue": "name 'month_df' is not defined",
     "output_type": "error",
     "traceback": [
      "\u001b[1;31m---------------------------------------------------------------------------\u001b[0m",
      "\u001b[1;31mNameError\u001b[0m                                 Traceback (most recent call last)",
      "\u001b[1;32m~\\AppData\\Local\\Temp\\ipykernel_9112\\2289828065.py\u001b[0m in \u001b[0;36m<module>\u001b[1;34m\u001b[0m\n\u001b[1;32m----> 1\u001b[1;33m \u001b[0mmonth_df\u001b[0m\u001b[1;33m\u001b[0m\u001b[1;33m\u001b[0m\u001b[0m\n\u001b[0m",
      "\u001b[1;31mNameError\u001b[0m: name 'month_df' is not defined"
     ]
    }
   ],
   "source": [
    "month_df"
   ]
  },
  {
   "cell_type": "code",
   "execution_count": null,
   "id": "d2edb4d1",
   "metadata": {},
   "outputs": [],
   "source": []
  },
  {
   "cell_type": "code",
   "execution_count": null,
   "id": "5484cf52",
   "metadata": {},
   "outputs": [],
   "source": []
  },
  {
   "cell_type": "code",
   "execution_count": null,
   "id": "9de1bdbe",
   "metadata": {},
   "outputs": [],
   "source": []
  },
  {
   "cell_type": "code",
   "execution_count": null,
   "id": "4cf4d682",
   "metadata": {},
   "outputs": [],
   "source": []
  },
  {
   "cell_type": "markdown",
   "id": "8af36b5b",
   "metadata": {},
   "source": [
    "### Other Algorithms for accuracy"
   ]
  },
  {
   "cell_type": "code",
   "execution_count": 923,
   "id": "7aed4fcc",
   "metadata": {},
   "outputs": [
    {
     "name": "stdout",
     "output_type": "stream",
     "text": [
      "\n",
      "Decision Tree Regression Performance:\n",
      "Mean Absolute Error: 1.00\n",
      "Mean Squared Error: 1.66\n",
      "R-squared Score: 0.25\n"
     ]
    }
   ],
   "source": [
    "from sklearn.tree import DecisionTreeRegressor\n",
    "\n",
    "step2 = DecisionTreeRegressor()\n",
    "\n",
    "pipe = Pipeline([\n",
    "    ('step1', step1),\n",
    "    ('step2', step2)\n",
    "])\n",
    "\n",
    "pipe.fit(X_train, y_train)\n",
    "y_pred = pipe.predict(X_test)\n",
    "\n",
    "mae = mean_absolute_error(y_test, y_pred)\n",
    "mse = mean_squared_error(y_test, y_pred)\n",
    "r2 = r2_score(y_test, y_pred)\n",
    "\n",
    "print(\"\\nDecision Tree Regression Performance:\")\n",
    "print(f\"Mean Absolute Error: {mae:.2f}\")\n",
    "print(f\"Mean Squared Error: {mse:.2f}\")\n",
    "print(f\"R-squared Score: {r2:.2f}\")\n"
   ]
  },
  {
   "cell_type": "code",
   "execution_count": 924,
   "id": "218fd1d1",
   "metadata": {},
   "outputs": [
    {
     "name": "stdout",
     "output_type": "stream",
     "text": [
      "\n",
      "Random Forest Regression Performance:\n",
      "Mean Absolute Error: 0.76\n",
      "Mean Squared Error: 0.94\n",
      "R-squared Score: 0.57\n"
     ]
    }
   ],
   "source": [
    "from sklearn.ensemble import RandomForestRegressor\n",
    "\n",
    "step2 = RandomForestRegressor()\n",
    "\n",
    "pipe = Pipeline([\n",
    "    ('step1', step1),\n",
    "    ('step2', step2)\n",
    "])\n",
    "\n",
    "pipe.fit(X_train, y_train)\n",
    "y_pred = pipe.predict(X_test)\n",
    "\n",
    "mae = mean_absolute_error(y_test, y_pred)\n",
    "mse = mean_squared_error(y_test, y_pred)\n",
    "r2 = r2_score(y_test, y_pred)\n",
    "\n",
    "print(\"\\nRandom Forest Regression Performance:\")\n",
    "print(f\"Mean Absolute Error: {mae:.2f}\")\n",
    "print(f\"Mean Squared Error: {mse:.2f}\")\n",
    "print(f\"R-squared Score: {r2:.2f}\")\n"
   ]
  },
  {
   "cell_type": "code",
   "execution_count": 925,
   "id": "733b9924",
   "metadata": {},
   "outputs": [
    {
     "name": "stdout",
     "output_type": "stream",
     "text": [
      "\n",
      "Gradient Boosting Regression Performance:\n",
      "Mean Absolute Error: 0.71\n",
      "Mean Squared Error: 0.80\n",
      "R-squared Score: 0.64\n"
     ]
    }
   ],
   "source": [
    "from sklearn.ensemble import GradientBoostingRegressor\n",
    "\n",
    "step2 = GradientBoostingRegressor()\n",
    "\n",
    "pipe = Pipeline([\n",
    "    ('step1', step1),\n",
    "    ('step2', step2)\n",
    "])\n",
    "\n",
    "pipe.fit(X_train, y_train)\n",
    "y_pred = pipe.predict(X_test)\n",
    "\n",
    "mae = mean_absolute_error(y_test, y_pred)\n",
    "mse = mean_squared_error(y_test, y_pred)\n",
    "r2 = r2_score(y_test, y_pred)\n",
    "\n",
    "print(\"\\nGradient Boosting Regression Performance:\")\n",
    "print(f\"Mean Absolute Error: {mae:.2f}\")\n",
    "print(f\"Mean Squared Error: {mse:.2f}\")\n",
    "print(f\"R-squared Score: {r2:.2f}\")\n"
   ]
  },
  {
   "cell_type": "code",
   "execution_count": 926,
   "id": "b0267c28",
   "metadata": {
    "scrolled": true
   },
   "outputs": [
    {
     "name": "stdout",
     "output_type": "stream",
     "text": [
      "\n",
      "Support Vector Regression Performance:\n",
      "Mean Absolute Error: 1.23\n",
      "Mean Squared Error: 2.32\n",
      "R-squared Score: -0.05\n"
     ]
    }
   ],
   "source": [
    "from sklearn.svm import SVR\n",
    "\n",
    "step2 = SVR()\n",
    "\n",
    "pipe = Pipeline([\n",
    "    ('step1', step1),\n",
    "    ('step2', step2)\n",
    "])\n",
    "\n",
    "pipe.fit(X_train, y_train)\n",
    "y_pred = pipe.predict(X_test)\n",
    "\n",
    "mae = mean_absolute_error(y_test, y_pred)\n",
    "mse = mean_squared_error(y_test, y_pred)\n",
    "r2 = r2_score(y_test, y_pred)\n",
    "\n",
    "print(\"\\nSupport Vector Regression Performance:\")\n",
    "print(f\"Mean Absolute Error: {mae:.2f}\")\n",
    "print(f\"Mean Squared Error: {mse:.2f}\")\n",
    "print(f\"R-squared Score: {r2:.2f}\")\n"
   ]
  },
  {
   "cell_type": "markdown",
   "id": "18fe0576",
   "metadata": {},
   "source": [
    "----------------------------------Other Algorithms till here-------------"
   ]
  },
  {
   "cell_type": "markdown",
   "id": "4cef88f4",
   "metadata": {},
   "source": [
    "## -------------------------------------------------------------------------------"
   ]
  },
  {
   "cell_type": "markdown",
   "id": "168d441f",
   "metadata": {},
   "source": [
    "# Forecasting future Data"
   ]
  },
  {
   "cell_type": "code",
   "execution_count": 936,
   "id": "b67289c3",
   "metadata": {},
   "outputs": [],
   "source": [
    "future_data = pd.DataFrame({\n",
    "    \"Sub-Category\": [\"Binders\", \"Chairs\"],\n",
    "    \"City\":['Los Angeles','Columbus'],\n",
    "    \"Region\": [\"West\", \"East\"],\n",
    "    \"Quantity\": [3, 4],  \n",
    "    \"Discount\": [0.1, 0.2],\n",
    "    \"Month\": [8, 9],  # Future months\n",
    "    \"Year\": [2025, 2025]  # Future year\n",
    "})"
   ]
  },
  {
   "cell_type": "code",
   "execution_count": 938,
   "id": "cdc7f531",
   "metadata": {},
   "outputs": [
    {
     "name": "stderr",
     "output_type": "stream",
     "text": [
      "C:\\Users\\PMYLS\\anaconda3\\lib\\site-packages\\sklearn\\preprocessing\\_encoders.py:170: UserWarning: Found unknown categories in columns [0] during transform. These unknown categories will be encoded as all zeros\n",
      "  warnings.warn(\n"
     ]
    },
    {
     "data": {
      "text/plain": [
       "array([258.16731519, 280.72057077])"
      ]
     },
     "execution_count": 938,
     "metadata": {},
     "output_type": "execute_result"
    }
   ],
   "source": [
    "np.exp(pipe.predict(future_data))"
   ]
  },
  {
   "cell_type": "code",
   "execution_count": 943,
   "id": "650686f8",
   "metadata": {},
   "outputs": [
    {
     "data": {
      "text/html": [
       "<div>\n",
       "<style scoped>\n",
       "    .dataframe tbody tr th:only-of-type {\n",
       "        vertical-align: middle;\n",
       "    }\n",
       "\n",
       "    .dataframe tbody tr th {\n",
       "        vertical-align: top;\n",
       "    }\n",
       "\n",
       "    .dataframe thead th {\n",
       "        text-align: right;\n",
       "    }\n",
       "</style>\n",
       "<table border=\"1\" class=\"dataframe\">\n",
       "  <thead>\n",
       "    <tr style=\"text-align: right;\">\n",
       "      <th></th>\n",
       "      <th>Sub-Category</th>\n",
       "      <th>Region</th>\n",
       "      <th>City</th>\n",
       "      <th>Quantity</th>\n",
       "      <th>Discount</th>\n",
       "      <th>Sales</th>\n",
       "      <th>Month</th>\n",
       "      <th>Year</th>\n",
       "    </tr>\n",
       "  </thead>\n",
       "  <tbody>\n",
       "    <tr>\n",
       "      <th>37</th>\n",
       "      <td>Chairs</td>\n",
       "      <td>Central</td>\n",
       "      <td>Other</td>\n",
       "      <td>9</td>\n",
       "      <td>0.3</td>\n",
       "      <td>1740.06</td>\n",
       "      <td>9</td>\n",
       "      <td>2014</td>\n",
       "    </tr>\n",
       "  </tbody>\n",
       "</table>\n",
       "</div>"
      ],
      "text/plain": [
       "   Sub-Category   Region   City  Quantity  Discount    Sales  Month  Year\n",
       "37       Chairs  Central  Other         9       0.3  1740.06      9  2014"
      ]
     },
     "execution_count": 943,
     "metadata": {},
     "output_type": "execute_result"
    }
   ],
   "source": [
    "df.sample()"
   ]
  },
  {
   "cell_type": "code",
   "execution_count": 946,
   "id": "3c2b6442",
   "metadata": {},
   "outputs": [],
   "source": [
    "new_data=[['Chairs','Central','Other','9','0.3','9','2014']]"
   ]
  },
  {
   "cell_type": "code",
   "execution_count": 947,
   "id": "03a8bb9d",
   "metadata": {},
   "outputs": [
    {
     "name": "stderr",
     "output_type": "stream",
     "text": [
      "C:\\Users\\PMYLS\\anaconda3\\lib\\site-packages\\sklearn\\base.py:450: UserWarning: X does not have valid feature names, but OneHotEncoder was fitted with feature names\n",
      "  warnings.warn(\n"
     ]
    },
    {
     "data": {
      "text/plain": [
       "array([1084.85944863])"
      ]
     },
     "execution_count": 947,
     "metadata": {},
     "output_type": "execute_result"
    }
   ],
   "source": [
    "np.exp(pipe.predict(new_data))"
   ]
  },
  {
   "cell_type": "markdown",
   "id": "47703f9d",
   "metadata": {},
   "source": [
    "## ---------------------------------------------------------------------------"
   ]
  },
  {
   "cell_type": "code",
   "execution_count": null,
   "id": "6c42e66f",
   "metadata": {},
   "outputs": [],
   "source": []
  },
  {
   "cell_type": "code",
   "execution_count": null,
   "id": "2ebd3d47",
   "metadata": {},
   "outputs": [],
   "source": []
  },
  {
   "cell_type": "code",
   "execution_count": 911,
   "id": "d78da1bb",
   "metadata": {},
   "outputs": [
    {
     "name": "stdout",
     "output_type": "stream",
     "text": [
      "Mean Absolute Error: 0.70\n",
      "Mean Squared Error: 0.78\n",
      "R-squared Score: 0.65\n"
     ]
    }
   ],
   "source": [
    "y_train_pred = pipe.predict(X_train)\n",
    "\n",
    "# Evaluate the model\n",
    "mae = mean_absolute_error(y_train, y_train_pred)\n",
    "mse = mean_squared_error(y_train, y_train_pred)\n",
    "r2 = r2_score(y_train, y_train_pred)\n",
    "\n",
    "print(f\"Mean Absolute Error: {mae:.2f}\")\n",
    "print(f\"Mean Squared Error: {mse:.2f}\")\n",
    "print(f\"R-squared Score: {r2:.2f}\")"
   ]
  },
  {
   "cell_type": "code",
   "execution_count": 917,
   "id": "0b84d484",
   "metadata": {},
   "outputs": [
    {
     "data": {
      "text/html": [
       "<div>\n",
       "<style scoped>\n",
       "    .dataframe tbody tr th:only-of-type {\n",
       "        vertical-align: middle;\n",
       "    }\n",
       "\n",
       "    .dataframe tbody tr th {\n",
       "        vertical-align: top;\n",
       "    }\n",
       "\n",
       "    .dataframe thead th {\n",
       "        text-align: right;\n",
       "    }\n",
       "</style>\n",
       "<table border=\"1\" class=\"dataframe\">\n",
       "  <thead>\n",
       "    <tr style=\"text-align: right;\">\n",
       "      <th></th>\n",
       "      <th>Sub-Category</th>\n",
       "      <th>Region</th>\n",
       "      <th>City</th>\n",
       "      <th>Quantity</th>\n",
       "      <th>Discount</th>\n",
       "      <th>Month</th>\n",
       "      <th>Year</th>\n",
       "    </tr>\n",
       "  </thead>\n",
       "  <tbody>\n",
       "    <tr>\n",
       "      <th>1811</th>\n",
       "      <td>Furnishings</td>\n",
       "      <td>East</td>\n",
       "      <td>Other</td>\n",
       "      <td>1</td>\n",
       "      <td>0.0</td>\n",
       "      <td>12</td>\n",
       "      <td>2017</td>\n",
       "    </tr>\n",
       "  </tbody>\n",
       "</table>\n",
       "</div>"
      ],
      "text/plain": [
       "     Sub-Category Region   City  Quantity  Discount  Month  Year\n",
       "1811  Furnishings   East  Other         1       0.0     12  2017"
      ]
     },
     "execution_count": 917,
     "metadata": {},
     "output_type": "execute_result"
    }
   ],
   "source": [
    "X_train.sample()"
   ]
  },
  {
   "cell_type": "code",
   "execution_count": 919,
   "id": "f3ce5ab6",
   "metadata": {
    "scrolled": true
   },
   "outputs": [
    {
     "name": "stderr",
     "output_type": "stream",
     "text": [
      "C:\\Users\\PMYLS\\anaconda3\\lib\\site-packages\\sklearn\\base.py:450: UserWarning: X does not have valid feature names, but OneHotEncoder was fitted with feature names\n",
      "  warnings.warn(\n"
     ]
    },
    {
     "data": {
      "text/plain": [
       "array([78.91904719])"
      ]
     },
     "execution_count": 919,
     "metadata": {},
     "output_type": "execute_result"
    }
   ],
   "source": [
    "np.exp(pipe.predict([['Furnishings','East','Other',6,0.2,9,2016]]))"
   ]
  },
  {
   "cell_type": "code",
   "execution_count": null,
   "id": "90822ef3",
   "metadata": {},
   "outputs": [],
   "source": []
  },
  {
   "cell_type": "markdown",
   "id": "156a8591",
   "metadata": {},
   "source": [
    "## Other Models "
   ]
  },
  {
   "cell_type": "code",
   "execution_count": 625,
   "id": "c97c08f5",
   "metadata": {},
   "outputs": [
    {
     "data": {
      "text/plain": [
       "(2121, 20)"
      ]
     },
     "execution_count": 625,
     "metadata": {},
     "output_type": "execute_result"
    }
   ],
   "source": [
    "X.shape"
   ]
  },
  {
   "cell_type": "code",
   "execution_count": 626,
   "id": "79d994c2",
   "metadata": {},
   "outputs": [
    {
     "data": {
      "text/plain": [
       "(2121,)"
      ]
     },
     "execution_count": 626,
     "metadata": {},
     "output_type": "execute_result"
    }
   ],
   "source": [
    "y.shape"
   ]
  },
  {
   "cell_type": "code",
   "execution_count": 627,
   "id": "30a054c6",
   "metadata": {},
   "outputs": [
    {
     "data": {
      "text/plain": [
       "(1696,)"
      ]
     },
     "execution_count": 627,
     "metadata": {},
     "output_type": "execute_result"
    }
   ],
   "source": [
    "y_train.shape"
   ]
  },
  {
   "cell_type": "code",
   "execution_count": 629,
   "id": "e9719933",
   "metadata": {},
   "outputs": [
    {
     "data": {
      "text/plain": [
       "(1696, 20)"
      ]
     },
     "execution_count": 629,
     "metadata": {},
     "output_type": "execute_result"
    }
   ],
   "source": [
    "X_train.shape"
   ]
  },
  {
   "cell_type": "code",
   "execution_count": 635,
   "id": "ec13d49e",
   "metadata": {},
   "outputs": [
    {
     "name": "stdout",
     "output_type": "stream",
     "text": [
      "Mean Absolute Error: 0.70\n",
      "Mean Squared Error: 0.78\n",
      "R-squared Score: 0.65\n"
     ]
    }
   ],
   "source": [
    "from sklearn.preprocessing import PolynomialFeatures\n",
    "poly = PolynomialFeatures(degree=2)  # Adjust degree based on performance\n",
    "X_train_poly = poly.fit_transform(X_train)\n",
    "X_test_poly = poly.transform(X_test)  # Apply the same transformation to test data\n",
    "\n",
    "# Train the model\n",
    "model = LinearRegression()\n",
    "model.fit(X_train_poly, y_train)\n",
    "\n",
    "# Predict on test data (use transformed X_test)\n",
    "y_pred = model.predict(X_test_poly)\n",
    "\n",
    "# Evaluate the model\n",
    "mae = mean_absolute_error(y_test, y_pred)\n",
    "mse = mean_squared_error(y_test, y_pred)\n",
    "r2 = r2_score(y_test, y_pred)\n",
    "\n",
    "print(f\"Mean Absolute Error: {mae:.2f}\")\n",
    "print(f\"Mean Squared Error: {mse:.2f}\")\n",
    "print(f\"R-squared Score: {r2:.2f}\")"
   ]
  },
  {
   "cell_type": "code",
   "execution_count": null,
   "id": "08e9e9e5",
   "metadata": {},
   "outputs": [],
   "source": []
  },
  {
   "cell_type": "code",
   "execution_count": null,
   "id": "423209bb",
   "metadata": {},
   "outputs": [],
   "source": []
  },
  {
   "cell_type": "code",
   "execution_count": null,
   "id": "0428df4d",
   "metadata": {},
   "outputs": [],
   "source": []
  },
  {
   "cell_type": "code",
   "execution_count": null,
   "id": "37693822",
   "metadata": {},
   "outputs": [],
   "source": []
  },
  {
   "cell_type": "code",
   "execution_count": 488,
   "id": "03b042c9",
   "metadata": {
    "scrolled": true
   },
   "outputs": [
    {
     "data": {
      "text/plain": [
       "14"
      ]
     },
     "execution_count": 488,
     "metadata": {},
     "output_type": "execute_result"
    }
   ],
   "source": [
    "df['Quantity'].max()"
   ]
  },
  {
   "cell_type": "code",
   "execution_count": 489,
   "id": "6f0d278e",
   "metadata": {},
   "outputs": [
    {
     "data": {
      "text/plain": [
       "20"
      ]
     },
     "execution_count": 489,
     "metadata": {},
     "output_type": "execute_result"
    }
   ],
   "source": [
    "len(model.coef_)"
   ]
  },
  {
   "cell_type": "code",
   "execution_count": 490,
   "id": "86d3f76c",
   "metadata": {},
   "outputs": [
    {
     "data": {
      "text/plain": [
       "array([ 0.54097509, -1.27298157, -0.00222377, -0.00550855,  0.03131885,\n",
       "       -2.02166695,  0.35552968,  0.03687268, -0.08460831, -0.00484618,\n",
       "       -0.03537741,  0.08412872,  0.07942145,  0.0647035 ,  0.18568949,\n",
       "        0.21846024,  0.27612241,  0.21616733,  0.07727466,  0.08839566])"
      ]
     },
     "execution_count": 490,
     "metadata": {},
     "output_type": "execute_result"
    }
   ],
   "source": [
    "model.coef_"
   ]
  },
  {
   "cell_type": "code",
   "execution_count": 491,
   "id": "705098b7",
   "metadata": {},
   "outputs": [
    {
     "data": {
      "text/plain": [
       "5.910117697667522"
      ]
     },
     "execution_count": 491,
     "metadata": {},
     "output_type": "execute_result"
    }
   ],
   "source": [
    "model.intercept_"
   ]
  },
  {
   "cell_type": "code",
   "execution_count": 492,
   "id": "fcd63dbf",
   "metadata": {},
   "outputs": [
    {
     "data": {
      "text/plain": [
       "(2121, 22)"
      ]
     },
     "execution_count": 492,
     "metadata": {},
     "output_type": "execute_result"
    }
   ],
   "source": [
    "df.shape"
   ]
  },
  {
   "cell_type": "code",
   "execution_count": 377,
   "id": "3114818e",
   "metadata": {},
   "outputs": [
    {
     "data": {
      "text/plain": [
       "22"
      ]
     },
     "execution_count": 377,
     "metadata": {},
     "output_type": "execute_result"
    }
   ],
   "source": [
    "len(df.columns)"
   ]
  },
  {
   "cell_type": "markdown",
   "id": "33ed4a7f",
   "metadata": {},
   "source": [
    "### Reason of low Accuracy"
   ]
  },
  {
   "cell_type": "code",
   "execution_count": 496,
   "id": "f992cae8",
   "metadata": {},
   "outputs": [
    {
     "data": {
      "text/plain": [
       "(1.892, 4416.174, 349.83488698727007, 182.22)"
      ]
     },
     "execution_count": 496,
     "metadata": {},
     "output_type": "execute_result"
    }
   ],
   "source": [
    "df['Sales'].min(),df['Sales'].max(),df['Sales'].mean(),df['Sales'].median()\n"
   ]
  },
  {
   "cell_type": "code",
   "execution_count": 448,
   "id": "448df26d",
   "metadata": {},
   "outputs": [
    {
     "name": "stdout",
     "output_type": "stream",
     "text": [
      "<class 'pandas.core.frame.DataFrame'>\n",
      "RangeIndex: 2121 entries, 0 to 2120\n",
      "Data columns (total 22 columns):\n",
      " #   Column                    Non-Null Count  Dtype         \n",
      "---  ------                    --------------  -----         \n",
      " 0   Order Date                2121 non-null   datetime64[ns]\n",
      " 1   Quantity                  2121 non-null   int64         \n",
      " 2   Discount                  2121 non-null   float64       \n",
      " 3   Sales                     2121 non-null   float64       \n",
      " 4   Month                     2121 non-null   int64         \n",
      " 5   Year                      2121 non-null   int64         \n",
      " 6   Sub-Category_Chairs       2121 non-null   uint8         \n",
      " 7   Sub-Category_Furnishings  2121 non-null   uint8         \n",
      " 8   Sub-Category_Tables       2121 non-null   uint8         \n",
      " 9   Region_East               2121 non-null   uint8         \n",
      " 10  Region_South              2121 non-null   uint8         \n",
      " 11  Region_West               2121 non-null   uint8         \n",
      " 12  City_Columbus             2121 non-null   uint8         \n",
      " 13  City_Detroit              2121 non-null   uint8         \n",
      " 14  City_Houston              2121 non-null   uint8         \n",
      " 15  City_Los Angeles          2121 non-null   uint8         \n",
      " 16  City_New York City        2121 non-null   uint8         \n",
      " 17  City_Other                2121 non-null   uint8         \n",
      " 18  City_Philadelphia         2121 non-null   uint8         \n",
      " 19  City_San Diego            2121 non-null   uint8         \n",
      " 20  City_San Francisco        2121 non-null   uint8         \n",
      " 21  City_Seattle              2121 non-null   uint8         \n",
      "dtypes: datetime64[ns](1), float64(2), int64(3), uint8(16)\n",
      "memory usage: 132.7 KB\n"
     ]
    }
   ],
   "source": [
    "df.info()"
   ]
  },
  {
   "cell_type": "code",
   "execution_count": 328,
   "id": "f2c7d4cd",
   "metadata": {},
   "outputs": [
    {
     "data": {
      "text/html": [
       "<div>\n",
       "<style scoped>\n",
       "    .dataframe tbody tr th:only-of-type {\n",
       "        vertical-align: middle;\n",
       "    }\n",
       "\n",
       "    .dataframe tbody tr th {\n",
       "        vertical-align: top;\n",
       "    }\n",
       "\n",
       "    .dataframe thead th {\n",
       "        text-align: right;\n",
       "    }\n",
       "</style>\n",
       "<table border=\"1\" class=\"dataframe\">\n",
       "  <thead>\n",
       "    <tr style=\"text-align: right;\">\n",
       "      <th></th>\n",
       "      <th>Order Date</th>\n",
       "      <th>Quantity</th>\n",
       "      <th>Discount</th>\n",
       "      <th>Sales</th>\n",
       "      <th>Month</th>\n",
       "      <th>Year</th>\n",
       "      <th>Sub-Category_Chairs</th>\n",
       "      <th>Sub-Category_Furnishings</th>\n",
       "      <th>Sub-Category_Tables</th>\n",
       "      <th>Region_East</th>\n",
       "      <th>...</th>\n",
       "      <th>City_Columbus</th>\n",
       "      <th>City_Detroit</th>\n",
       "      <th>City_Houston</th>\n",
       "      <th>City_Los Angeles</th>\n",
       "      <th>City_New York City</th>\n",
       "      <th>City_Other</th>\n",
       "      <th>City_Philadelphia</th>\n",
       "      <th>City_San Diego</th>\n",
       "      <th>City_San Francisco</th>\n",
       "      <th>City_Seattle</th>\n",
       "    </tr>\n",
       "  </thead>\n",
       "  <tbody>\n",
       "    <tr>\n",
       "      <th>0</th>\n",
       "      <td>2016-11-08</td>\n",
       "      <td>2</td>\n",
       "      <td>0.00</td>\n",
       "      <td>261.9600</td>\n",
       "      <td>11</td>\n",
       "      <td>2016</td>\n",
       "      <td>0</td>\n",
       "      <td>0</td>\n",
       "      <td>0</td>\n",
       "      <td>0</td>\n",
       "      <td>...</td>\n",
       "      <td>0</td>\n",
       "      <td>0</td>\n",
       "      <td>0</td>\n",
       "      <td>0</td>\n",
       "      <td>0</td>\n",
       "      <td>1</td>\n",
       "      <td>0</td>\n",
       "      <td>0</td>\n",
       "      <td>0</td>\n",
       "      <td>0</td>\n",
       "    </tr>\n",
       "    <tr>\n",
       "      <th>1</th>\n",
       "      <td>2016-11-08</td>\n",
       "      <td>3</td>\n",
       "      <td>0.00</td>\n",
       "      <td>731.9400</td>\n",
       "      <td>11</td>\n",
       "      <td>2016</td>\n",
       "      <td>1</td>\n",
       "      <td>0</td>\n",
       "      <td>0</td>\n",
       "      <td>0</td>\n",
       "      <td>...</td>\n",
       "      <td>0</td>\n",
       "      <td>0</td>\n",
       "      <td>0</td>\n",
       "      <td>0</td>\n",
       "      <td>0</td>\n",
       "      <td>1</td>\n",
       "      <td>0</td>\n",
       "      <td>0</td>\n",
       "      <td>0</td>\n",
       "      <td>0</td>\n",
       "    </tr>\n",
       "    <tr>\n",
       "      <th>2</th>\n",
       "      <td>2015-10-11</td>\n",
       "      <td>5</td>\n",
       "      <td>0.45</td>\n",
       "      <td>957.5775</td>\n",
       "      <td>10</td>\n",
       "      <td>2015</td>\n",
       "      <td>0</td>\n",
       "      <td>0</td>\n",
       "      <td>1</td>\n",
       "      <td>0</td>\n",
       "      <td>...</td>\n",
       "      <td>0</td>\n",
       "      <td>0</td>\n",
       "      <td>0</td>\n",
       "      <td>0</td>\n",
       "      <td>0</td>\n",
       "      <td>1</td>\n",
       "      <td>0</td>\n",
       "      <td>0</td>\n",
       "      <td>0</td>\n",
       "      <td>0</td>\n",
       "    </tr>\n",
       "    <tr>\n",
       "      <th>3</th>\n",
       "      <td>2014-06-09</td>\n",
       "      <td>7</td>\n",
       "      <td>0.00</td>\n",
       "      <td>48.8600</td>\n",
       "      <td>6</td>\n",
       "      <td>2014</td>\n",
       "      <td>0</td>\n",
       "      <td>1</td>\n",
       "      <td>0</td>\n",
       "      <td>0</td>\n",
       "      <td>...</td>\n",
       "      <td>0</td>\n",
       "      <td>0</td>\n",
       "      <td>0</td>\n",
       "      <td>1</td>\n",
       "      <td>0</td>\n",
       "      <td>0</td>\n",
       "      <td>0</td>\n",
       "      <td>0</td>\n",
       "      <td>0</td>\n",
       "      <td>0</td>\n",
       "    </tr>\n",
       "    <tr>\n",
       "      <th>4</th>\n",
       "      <td>2014-06-09</td>\n",
       "      <td>9</td>\n",
       "      <td>0.20</td>\n",
       "      <td>1706.1840</td>\n",
       "      <td>6</td>\n",
       "      <td>2014</td>\n",
       "      <td>0</td>\n",
       "      <td>0</td>\n",
       "      <td>1</td>\n",
       "      <td>0</td>\n",
       "      <td>...</td>\n",
       "      <td>0</td>\n",
       "      <td>0</td>\n",
       "      <td>0</td>\n",
       "      <td>1</td>\n",
       "      <td>0</td>\n",
       "      <td>0</td>\n",
       "      <td>0</td>\n",
       "      <td>0</td>\n",
       "      <td>0</td>\n",
       "      <td>0</td>\n",
       "    </tr>\n",
       "    <tr>\n",
       "      <th>...</th>\n",
       "      <td>...</td>\n",
       "      <td>...</td>\n",
       "      <td>...</td>\n",
       "      <td>...</td>\n",
       "      <td>...</td>\n",
       "      <td>...</td>\n",
       "      <td>...</td>\n",
       "      <td>...</td>\n",
       "      <td>...</td>\n",
       "      <td>...</td>\n",
       "      <td>...</td>\n",
       "      <td>...</td>\n",
       "      <td>...</td>\n",
       "      <td>...</td>\n",
       "      <td>...</td>\n",
       "      <td>...</td>\n",
       "      <td>...</td>\n",
       "      <td>...</td>\n",
       "      <td>...</td>\n",
       "      <td>...</td>\n",
       "      <td>...</td>\n",
       "    </tr>\n",
       "    <tr>\n",
       "      <th>2116</th>\n",
       "      <td>2015-03-19</td>\n",
       "      <td>4</td>\n",
       "      <td>0.32</td>\n",
       "      <td>383.4656</td>\n",
       "      <td>3</td>\n",
       "      <td>2015</td>\n",
       "      <td>0</td>\n",
       "      <td>0</td>\n",
       "      <td>0</td>\n",
       "      <td>0</td>\n",
       "      <td>...</td>\n",
       "      <td>0</td>\n",
       "      <td>0</td>\n",
       "      <td>1</td>\n",
       "      <td>0</td>\n",
       "      <td>0</td>\n",
       "      <td>0</td>\n",
       "      <td>0</td>\n",
       "      <td>0</td>\n",
       "      <td>0</td>\n",
       "      <td>0</td>\n",
       "    </tr>\n",
       "    <tr>\n",
       "      <th>2117</th>\n",
       "      <td>2016-12-05</td>\n",
       "      <td>1</td>\n",
       "      <td>0.00</td>\n",
       "      <td>13.4000</td>\n",
       "      <td>12</td>\n",
       "      <td>2016</td>\n",
       "      <td>0</td>\n",
       "      <td>1</td>\n",
       "      <td>0</td>\n",
       "      <td>1</td>\n",
       "      <td>...</td>\n",
       "      <td>0</td>\n",
       "      <td>0</td>\n",
       "      <td>0</td>\n",
       "      <td>0</td>\n",
       "      <td>0</td>\n",
       "      <td>1</td>\n",
       "      <td>0</td>\n",
       "      <td>0</td>\n",
       "      <td>0</td>\n",
       "      <td>0</td>\n",
       "    </tr>\n",
       "    <tr>\n",
       "      <th>2118</th>\n",
       "      <td>2015-09-06</td>\n",
       "      <td>1</td>\n",
       "      <td>0.00</td>\n",
       "      <td>85.9800</td>\n",
       "      <td>9</td>\n",
       "      <td>2015</td>\n",
       "      <td>0</td>\n",
       "      <td>0</td>\n",
       "      <td>1</td>\n",
       "      <td>0</td>\n",
       "      <td>...</td>\n",
       "      <td>0</td>\n",
       "      <td>0</td>\n",
       "      <td>0</td>\n",
       "      <td>0</td>\n",
       "      <td>0</td>\n",
       "      <td>1</td>\n",
       "      <td>0</td>\n",
       "      <td>0</td>\n",
       "      <td>0</td>\n",
       "      <td>0</td>\n",
       "    </tr>\n",
       "    <tr>\n",
       "      <th>2119</th>\n",
       "      <td>2014-01-21</td>\n",
       "      <td>3</td>\n",
       "      <td>0.20</td>\n",
       "      <td>25.2480</td>\n",
       "      <td>1</td>\n",
       "      <td>2014</td>\n",
       "      <td>0</td>\n",
       "      <td>1</td>\n",
       "      <td>0</td>\n",
       "      <td>0</td>\n",
       "      <td>...</td>\n",
       "      <td>0</td>\n",
       "      <td>0</td>\n",
       "      <td>0</td>\n",
       "      <td>0</td>\n",
       "      <td>0</td>\n",
       "      <td>1</td>\n",
       "      <td>0</td>\n",
       "      <td>0</td>\n",
       "      <td>0</td>\n",
       "      <td>0</td>\n",
       "    </tr>\n",
       "    <tr>\n",
       "      <th>2120</th>\n",
       "      <td>2017-02-26</td>\n",
       "      <td>2</td>\n",
       "      <td>0.00</td>\n",
       "      <td>91.9600</td>\n",
       "      <td>2</td>\n",
       "      <td>2017</td>\n",
       "      <td>0</td>\n",
       "      <td>1</td>\n",
       "      <td>0</td>\n",
       "      <td>0</td>\n",
       "      <td>...</td>\n",
       "      <td>0</td>\n",
       "      <td>0</td>\n",
       "      <td>0</td>\n",
       "      <td>0</td>\n",
       "      <td>0</td>\n",
       "      <td>1</td>\n",
       "      <td>0</td>\n",
       "      <td>0</td>\n",
       "      <td>0</td>\n",
       "      <td>0</td>\n",
       "    </tr>\n",
       "  </tbody>\n",
       "</table>\n",
       "<p>2121 rows × 22 columns</p>\n",
       "</div>"
      ],
      "text/plain": [
       "     Order Date  Quantity  Discount      Sales  Month  Year  \\\n",
       "0    2016-11-08         2      0.00   261.9600     11  2016   \n",
       "1    2016-11-08         3      0.00   731.9400     11  2016   \n",
       "2    2015-10-11         5      0.45   957.5775     10  2015   \n",
       "3    2014-06-09         7      0.00    48.8600      6  2014   \n",
       "4    2014-06-09         9      0.20  1706.1840      6  2014   \n",
       "...         ...       ...       ...        ...    ...   ...   \n",
       "2116 2015-03-19         4      0.32   383.4656      3  2015   \n",
       "2117 2016-12-05         1      0.00    13.4000     12  2016   \n",
       "2118 2015-09-06         1      0.00    85.9800      9  2015   \n",
       "2119 2014-01-21         3      0.20    25.2480      1  2014   \n",
       "2120 2017-02-26         2      0.00    91.9600      2  2017   \n",
       "\n",
       "      Sub-Category_Chairs  Sub-Category_Furnishings  Sub-Category_Tables  \\\n",
       "0                       0                         0                    0   \n",
       "1                       1                         0                    0   \n",
       "2                       0                         0                    1   \n",
       "3                       0                         1                    0   \n",
       "4                       0                         0                    1   \n",
       "...                   ...                       ...                  ...   \n",
       "2116                    0                         0                    0   \n",
       "2117                    0                         1                    0   \n",
       "2118                    0                         0                    1   \n",
       "2119                    0                         1                    0   \n",
       "2120                    0                         1                    0   \n",
       "\n",
       "      Region_East  ...  City_Columbus  City_Detroit  City_Houston  \\\n",
       "0               0  ...              0             0             0   \n",
       "1               0  ...              0             0             0   \n",
       "2               0  ...              0             0             0   \n",
       "3               0  ...              0             0             0   \n",
       "4               0  ...              0             0             0   \n",
       "...           ...  ...            ...           ...           ...   \n",
       "2116            0  ...              0             0             1   \n",
       "2117            1  ...              0             0             0   \n",
       "2118            0  ...              0             0             0   \n",
       "2119            0  ...              0             0             0   \n",
       "2120            0  ...              0             0             0   \n",
       "\n",
       "      City_Los Angeles  City_New York City  City_Other  City_Philadelphia  \\\n",
       "0                    0                   0           1                  0   \n",
       "1                    0                   0           1                  0   \n",
       "2                    0                   0           1                  0   \n",
       "3                    1                   0           0                  0   \n",
       "4                    1                   0           0                  0   \n",
       "...                ...                 ...         ...                ...   \n",
       "2116                 0                   0           0                  0   \n",
       "2117                 0                   0           1                  0   \n",
       "2118                 0                   0           1                  0   \n",
       "2119                 0                   0           1                  0   \n",
       "2120                 0                   0           1                  0   \n",
       "\n",
       "      City_San Diego  City_San Francisco  City_Seattle  \n",
       "0                  0                   0             0  \n",
       "1                  0                   0             0  \n",
       "2                  0                   0             0  \n",
       "3                  0                   0             0  \n",
       "4                  0                   0             0  \n",
       "...              ...                 ...           ...  \n",
       "2116               0                   0             0  \n",
       "2117               0                   0             0  \n",
       "2118               0                   0             0  \n",
       "2119               0                   0             0  \n",
       "2120               0                   0             0  \n",
       "\n",
       "[2121 rows x 22 columns]"
      ]
     },
     "execution_count": 328,
     "metadata": {},
     "output_type": "execute_result"
    }
   ],
   "source": [
    "df"
   ]
  },
  {
   "cell_type": "code",
   "execution_count": 504,
   "id": "203a34ad",
   "metadata": {},
   "outputs": [
    {
     "data": {
      "text/plain": [
       "<AxesSubplot:xlabel='Sales', ylabel='Density'>"
      ]
     },
     "execution_count": 504,
     "metadata": {},
     "output_type": "execute_result"
    },
    {
     "data": {
      "image/png": "[encoded data removed]",
      "text/plain": [
       "<Figure size 640x480 with 1 Axes>"
      ]
     },
     "metadata": {},
     "output_type": "display_data"
    }
   ],
   "source": [
    "sns.kdeplot(np.log((df['Sales'])))"
   ]
  },
  {
   "cell_type": "code",
   "execution_count": 511,
   "id": "0d0ac98b",
   "metadata": {},
   "outputs": [
    {
     "data": {
      "text/plain": [
       "<AxesSubplot:xlabel='Sales', ylabel='Density'>"
      ]
     },
     "execution_count": 511,
     "metadata": {},
     "output_type": "execute_result"
    },
    {
     "data": {
      "image/png": "[encoded data removed]",
      "text/plain": [
       "<Figure size 640x480 with 1 Axes>"
      ]
     },
     "metadata": {},
     "output_type": "display_data"
    }
   ],
   "source": [
    "sns.kdeplot(df['Sales'])"
   ]
  },
  {
   "cell_type": "code",
   "execution_count": 509,
   "id": "75bd72bb",
   "metadata": {},
   "outputs": [
    {
     "data": {
      "text/plain": [
       "<AxesSubplot:xlabel='Sales', ylabel='Density'>"
      ]
     },
     "execution_count": 509,
     "metadata": {},
     "output_type": "execute_result"
    },
    {
     "data": {
      "image/png": "[encoded data removed]",
      "text/plain": [
       "<Figure size 640x480 with 1 Axes>"
      ]
     },
     "metadata": {},
     "output_type": "display_data"
    }
   ],
   "source": [
    "sns.kdeplot(df[df['Sales']<183]['Sales'])"
   ]
  },
  {
   "cell_type": "code",
   "execution_count": 513,
   "id": "070319df",
   "metadata": {},
   "outputs": [
    {
     "data": {
      "text/plain": [
       "count    2121.000000\n",
       "mean      349.834887\n",
       "std       503.179145\n",
       "min         1.892000\n",
       "25%        47.040000\n",
       "50%       182.220000\n",
       "75%       435.168000\n",
       "max      4416.174000\n",
       "Name: Sales, dtype: float64"
      ]
     },
     "execution_count": 513,
     "metadata": {},
     "output_type": "execute_result"
    }
   ],
   "source": [
    "df['Sales'].describe()"
   ]
  },
  {
   "cell_type": "code",
   "execution_count": 514,
   "id": "fc64f936",
   "metadata": {},
   "outputs": [
    {
     "data": {
      "text/html": [
       "<div>\n",
       "<style scoped>\n",
       "    .dataframe tbody tr th:only-of-type {\n",
       "        vertical-align: middle;\n",
       "    }\n",
       "\n",
       "    .dataframe tbody tr th {\n",
       "        vertical-align: top;\n",
       "    }\n",
       "\n",
       "    .dataframe thead th {\n",
       "        text-align: right;\n",
       "    }\n",
       "</style>\n",
       "<table border=\"1\" class=\"dataframe\">\n",
       "  <thead>\n",
       "    <tr style=\"text-align: right;\">\n",
       "      <th></th>\n",
       "      <th>Order Date</th>\n",
       "      <th>Quantity</th>\n",
       "      <th>Discount</th>\n",
       "      <th>Sales</th>\n",
       "      <th>Month</th>\n",
       "      <th>Year</th>\n",
       "      <th>Sub-Category_Chairs</th>\n",
       "      <th>Sub-Category_Furnishings</th>\n",
       "      <th>Sub-Category_Tables</th>\n",
       "      <th>Region_East</th>\n",
       "      <th>...</th>\n",
       "      <th>City_Columbus</th>\n",
       "      <th>City_Detroit</th>\n",
       "      <th>City_Houston</th>\n",
       "      <th>City_Los Angeles</th>\n",
       "      <th>City_New York City</th>\n",
       "      <th>City_Other</th>\n",
       "      <th>City_Philadelphia</th>\n",
       "      <th>City_San Diego</th>\n",
       "      <th>City_San Francisco</th>\n",
       "      <th>City_Seattle</th>\n",
       "    </tr>\n",
       "  </thead>\n",
       "  <tbody>\n",
       "    <tr>\n",
       "      <th>3</th>\n",
       "      <td>2014-06-09</td>\n",
       "      <td>7</td>\n",
       "      <td>0.0</td>\n",
       "      <td>48.860</td>\n",
       "      <td>6</td>\n",
       "      <td>4</td>\n",
       "      <td>0</td>\n",
       "      <td>1</td>\n",
       "      <td>0</td>\n",
       "      <td>0</td>\n",
       "      <td>...</td>\n",
       "      <td>0</td>\n",
       "      <td>0</td>\n",
       "      <td>0</td>\n",
       "      <td>1</td>\n",
       "      <td>0</td>\n",
       "      <td>0</td>\n",
       "      <td>0</td>\n",
       "      <td>0</td>\n",
       "      <td>0</td>\n",
       "      <td>0</td>\n",
       "    </tr>\n",
       "    <tr>\n",
       "      <th>5</th>\n",
       "      <td>2017-07-16</td>\n",
       "      <td>2</td>\n",
       "      <td>0.3</td>\n",
       "      <td>71.372</td>\n",
       "      <td>7</td>\n",
       "      <td>7</td>\n",
       "      <td>1</td>\n",
       "      <td>0</td>\n",
       "      <td>0</td>\n",
       "      <td>1</td>\n",
       "      <td>...</td>\n",
       "      <td>0</td>\n",
       "      <td>0</td>\n",
       "      <td>0</td>\n",
       "      <td>0</td>\n",
       "      <td>0</td>\n",
       "      <td>0</td>\n",
       "      <td>1</td>\n",
       "      <td>0</td>\n",
       "      <td>0</td>\n",
       "      <td>0</td>\n",
       "    </tr>\n",
       "    <tr>\n",
       "      <th>8</th>\n",
       "      <td>2015-09-17</td>\n",
       "      <td>3</td>\n",
       "      <td>0.2</td>\n",
       "      <td>124.200</td>\n",
       "      <td>9</td>\n",
       "      <td>5</td>\n",
       "      <td>0</td>\n",
       "      <td>1</td>\n",
       "      <td>0</td>\n",
       "      <td>1</td>\n",
       "      <td>...</td>\n",
       "      <td>0</td>\n",
       "      <td>0</td>\n",
       "      <td>0</td>\n",
       "      <td>0</td>\n",
       "      <td>0</td>\n",
       "      <td>0</td>\n",
       "      <td>1</td>\n",
       "      <td>0</td>\n",
       "      <td>0</td>\n",
       "      <td>0</td>\n",
       "    </tr>\n",
       "    <tr>\n",
       "      <th>12</th>\n",
       "      <td>2015-04-18</td>\n",
       "      <td>2</td>\n",
       "      <td>0.0</td>\n",
       "      <td>6.160</td>\n",
       "      <td>4</td>\n",
       "      <td>5</td>\n",
       "      <td>0</td>\n",
       "      <td>1</td>\n",
       "      <td>0</td>\n",
       "      <td>0</td>\n",
       "      <td>...</td>\n",
       "      <td>0</td>\n",
       "      <td>0</td>\n",
       "      <td>0</td>\n",
       "      <td>0</td>\n",
       "      <td>0</td>\n",
       "      <td>1</td>\n",
       "      <td>0</td>\n",
       "      <td>0</td>\n",
       "      <td>0</td>\n",
       "      <td>0</td>\n",
       "    </tr>\n",
       "    <tr>\n",
       "      <th>13</th>\n",
       "      <td>2015-04-18</td>\n",
       "      <td>1</td>\n",
       "      <td>0.0</td>\n",
       "      <td>89.990</td>\n",
       "      <td>4</td>\n",
       "      <td>5</td>\n",
       "      <td>1</td>\n",
       "      <td>0</td>\n",
       "      <td>0</td>\n",
       "      <td>0</td>\n",
       "      <td>...</td>\n",
       "      <td>0</td>\n",
       "      <td>0</td>\n",
       "      <td>0</td>\n",
       "      <td>0</td>\n",
       "      <td>0</td>\n",
       "      <td>1</td>\n",
       "      <td>0</td>\n",
       "      <td>0</td>\n",
       "      <td>0</td>\n",
       "      <td>0</td>\n",
       "    </tr>\n",
       "    <tr>\n",
       "      <th>...</th>\n",
       "      <td>...</td>\n",
       "      <td>...</td>\n",
       "      <td>...</td>\n",
       "      <td>...</td>\n",
       "      <td>...</td>\n",
       "      <td>...</td>\n",
       "      <td>...</td>\n",
       "      <td>...</td>\n",
       "      <td>...</td>\n",
       "      <td>...</td>\n",
       "      <td>...</td>\n",
       "      <td>...</td>\n",
       "      <td>...</td>\n",
       "      <td>...</td>\n",
       "      <td>...</td>\n",
       "      <td>...</td>\n",
       "      <td>...</td>\n",
       "      <td>...</td>\n",
       "      <td>...</td>\n",
       "      <td>...</td>\n",
       "      <td>...</td>\n",
       "    </tr>\n",
       "    <tr>\n",
       "      <th>2113</th>\n",
       "      <td>2016-12-12</td>\n",
       "      <td>5</td>\n",
       "      <td>0.0</td>\n",
       "      <td>60.350</td>\n",
       "      <td>12</td>\n",
       "      <td>6</td>\n",
       "      <td>0</td>\n",
       "      <td>1</td>\n",
       "      <td>0</td>\n",
       "      <td>1</td>\n",
       "      <td>...</td>\n",
       "      <td>0</td>\n",
       "      <td>0</td>\n",
       "      <td>0</td>\n",
       "      <td>0</td>\n",
       "      <td>1</td>\n",
       "      <td>0</td>\n",
       "      <td>0</td>\n",
       "      <td>0</td>\n",
       "      <td>0</td>\n",
       "      <td>0</td>\n",
       "    </tr>\n",
       "    <tr>\n",
       "      <th>2117</th>\n",
       "      <td>2016-12-05</td>\n",
       "      <td>1</td>\n",
       "      <td>0.0</td>\n",
       "      <td>13.400</td>\n",
       "      <td>12</td>\n",
       "      <td>6</td>\n",
       "      <td>0</td>\n",
       "      <td>1</td>\n",
       "      <td>0</td>\n",
       "      <td>1</td>\n",
       "      <td>...</td>\n",
       "      <td>0</td>\n",
       "      <td>0</td>\n",
       "      <td>0</td>\n",
       "      <td>0</td>\n",
       "      <td>0</td>\n",
       "      <td>1</td>\n",
       "      <td>0</td>\n",
       "      <td>0</td>\n",
       "      <td>0</td>\n",
       "      <td>0</td>\n",
       "    </tr>\n",
       "    <tr>\n",
       "      <th>2118</th>\n",
       "      <td>2015-09-06</td>\n",
       "      <td>1</td>\n",
       "      <td>0.0</td>\n",
       "      <td>85.980</td>\n",
       "      <td>9</td>\n",
       "      <td>5</td>\n",
       "      <td>0</td>\n",
       "      <td>0</td>\n",
       "      <td>1</td>\n",
       "      <td>0</td>\n",
       "      <td>...</td>\n",
       "      <td>0</td>\n",
       "      <td>0</td>\n",
       "      <td>0</td>\n",
       "      <td>0</td>\n",
       "      <td>0</td>\n",
       "      <td>1</td>\n",
       "      <td>0</td>\n",
       "      <td>0</td>\n",
       "      <td>0</td>\n",
       "      <td>0</td>\n",
       "    </tr>\n",
       "    <tr>\n",
       "      <th>2119</th>\n",
       "      <td>2014-01-21</td>\n",
       "      <td>3</td>\n",
       "      <td>0.2</td>\n",
       "      <td>25.248</td>\n",
       "      <td>1</td>\n",
       "      <td>4</td>\n",
       "      <td>0</td>\n",
       "      <td>1</td>\n",
       "      <td>0</td>\n",
       "      <td>0</td>\n",
       "      <td>...</td>\n",
       "      <td>0</td>\n",
       "      <td>0</td>\n",
       "      <td>0</td>\n",
       "      <td>0</td>\n",
       "      <td>0</td>\n",
       "      <td>1</td>\n",
       "      <td>0</td>\n",
       "      <td>0</td>\n",
       "      <td>0</td>\n",
       "      <td>0</td>\n",
       "    </tr>\n",
       "    <tr>\n",
       "      <th>2120</th>\n",
       "      <td>2017-02-26</td>\n",
       "      <td>2</td>\n",
       "      <td>0.0</td>\n",
       "      <td>91.960</td>\n",
       "      <td>2</td>\n",
       "      <td>7</td>\n",
       "      <td>0</td>\n",
       "      <td>1</td>\n",
       "      <td>0</td>\n",
       "      <td>0</td>\n",
       "      <td>...</td>\n",
       "      <td>0</td>\n",
       "      <td>0</td>\n",
       "      <td>0</td>\n",
       "      <td>0</td>\n",
       "      <td>0</td>\n",
       "      <td>1</td>\n",
       "      <td>0</td>\n",
       "      <td>0</td>\n",
       "      <td>0</td>\n",
       "      <td>0</td>\n",
       "    </tr>\n",
       "  </tbody>\n",
       "</table>\n",
       "<p>1065 rows × 22 columns</p>\n",
       "</div>"
      ],
      "text/plain": [
       "     Order Date  Quantity  Discount    Sales  Month  Year  \\\n",
       "3    2014-06-09         7       0.0   48.860      6     4   \n",
       "5    2017-07-16         2       0.3   71.372      7     7   \n",
       "8    2015-09-17         3       0.2  124.200      9     5   \n",
       "12   2015-04-18         2       0.0    6.160      4     5   \n",
       "13   2015-04-18         1       0.0   89.990      4     5   \n",
       "...         ...       ...       ...      ...    ...   ...   \n",
       "2113 2016-12-12         5       0.0   60.350     12     6   \n",
       "2117 2016-12-05         1       0.0   13.400     12     6   \n",
       "2118 2015-09-06         1       0.0   85.980      9     5   \n",
       "2119 2014-01-21         3       0.2   25.248      1     4   \n",
       "2120 2017-02-26         2       0.0   91.960      2     7   \n",
       "\n",
       "      Sub-Category_Chairs  Sub-Category_Furnishings  Sub-Category_Tables  \\\n",
       "3                       0                         1                    0   \n",
       "5                       1                         0                    0   \n",
       "8                       0                         1                    0   \n",
       "12                      0                         1                    0   \n",
       "13                      1                         0                    0   \n",
       "...                   ...                       ...                  ...   \n",
       "2113                    0                         1                    0   \n",
       "2117                    0                         1                    0   \n",
       "2118                    0                         0                    1   \n",
       "2119                    0                         1                    0   \n",
       "2120                    0                         1                    0   \n",
       "\n",
       "      Region_East  ...  City_Columbus  City_Detroit  City_Houston  \\\n",
       "3               0  ...              0             0             0   \n",
       "5               1  ...              0             0             0   \n",
       "8               1  ...              0             0             0   \n",
       "12              0  ...              0             0             0   \n",
       "13              0  ...              0             0             0   \n",
       "...           ...  ...            ...           ...           ...   \n",
       "2113            1  ...              0             0             0   \n",
       "2117            1  ...              0             0             0   \n",
       "2118            0  ...              0             0             0   \n",
       "2119            0  ...              0             0             0   \n",
       "2120            0  ...              0             0             0   \n",
       "\n",
       "      City_Los Angeles  City_New York City  City_Other  City_Philadelphia  \\\n",
       "3                    1                   0           0                  0   \n",
       "5                    0                   0           0                  1   \n",
       "8                    0                   0           0                  1   \n",
       "12                   0                   0           1                  0   \n",
       "13                   0                   0           1                  0   \n",
       "...                ...                 ...         ...                ...   \n",
       "2113                 0                   1           0                  0   \n",
       "2117                 0                   0           1                  0   \n",
       "2118                 0                   0           1                  0   \n",
       "2119                 0                   0           1                  0   \n",
       "2120                 0                   0           1                  0   \n",
       "\n",
       "      City_San Diego  City_San Francisco  City_Seattle  \n",
       "3                  0                   0             0  \n",
       "5                  0                   0             0  \n",
       "8                  0                   0             0  \n",
       "12                 0                   0             0  \n",
       "13                 0                   0             0  \n",
       "...              ...                 ...           ...  \n",
       "2113               0                   0             0  \n",
       "2117               0                   0             0  \n",
       "2118               0                   0             0  \n",
       "2119               0                   0             0  \n",
       "2120               0                   0             0  \n",
       "\n",
       "[1065 rows x 22 columns]"
      ]
     },
     "execution_count": 514,
     "metadata": {},
     "output_type": "execute_result"
    }
   ],
   "source": [
    "df[df['Sales']<183]"
   ]
  },
  {
   "cell_type": "code",
   "execution_count": null,
   "id": "6894f792",
   "metadata": {},
   "outputs": [],
   "source": []
  },
  {
   "cell_type": "code",
   "execution_count": 518,
   "id": "9443c52d",
   "metadata": {},
   "outputs": [],
   "source": [
    "d = pd.DataFrame({'sales':[-203,5,6,20,40,64,199]})"
   ]
  },
  {
   "cell_type": "code",
   "execution_count": 519,
   "id": "2b256e33",
   "metadata": {},
   "outputs": [
    {
     "data": {
      "text/html": [
       "<div>\n",
       "<style scoped>\n",
       "    .dataframe tbody tr th:only-of-type {\n",
       "        vertical-align: middle;\n",
       "    }\n",
       "\n",
       "    .dataframe tbody tr th {\n",
       "        vertical-align: top;\n",
       "    }\n",
       "\n",
       "    .dataframe thead th {\n",
       "        text-align: right;\n",
       "    }\n",
       "</style>\n",
       "<table border=\"1\" class=\"dataframe\">\n",
       "  <thead>\n",
       "    <tr style=\"text-align: right;\">\n",
       "      <th></th>\n",
       "      <th>sales</th>\n",
       "    </tr>\n",
       "  </thead>\n",
       "  <tbody>\n",
       "    <tr>\n",
       "      <th>0</th>\n",
       "      <td>-203</td>\n",
       "    </tr>\n",
       "    <tr>\n",
       "      <th>1</th>\n",
       "      <td>5</td>\n",
       "    </tr>\n",
       "    <tr>\n",
       "      <th>2</th>\n",
       "      <td>6</td>\n",
       "    </tr>\n",
       "    <tr>\n",
       "      <th>3</th>\n",
       "      <td>20</td>\n",
       "    </tr>\n",
       "    <tr>\n",
       "      <th>4</th>\n",
       "      <td>40</td>\n",
       "    </tr>\n",
       "    <tr>\n",
       "      <th>5</th>\n",
       "      <td>64</td>\n",
       "    </tr>\n",
       "    <tr>\n",
       "      <th>6</th>\n",
       "      <td>199</td>\n",
       "    </tr>\n",
       "  </tbody>\n",
       "</table>\n",
       "</div>"
      ],
      "text/plain": [
       "   sales\n",
       "0   -203\n",
       "1      5\n",
       "2      6\n",
       "3     20\n",
       "4     40\n",
       "5     64\n",
       "6    199"
      ]
     },
     "execution_count": 519,
     "metadata": {},
     "output_type": "execute_result"
    }
   ],
   "source": [
    "d"
   ]
  },
  {
   "cell_type": "code",
   "execution_count": 520,
   "id": "27b9cb0a",
   "metadata": {},
   "outputs": [
    {
     "data": {
      "text/plain": [
       "0    20.0\n",
       "1     5.0\n",
       "2     6.0\n",
       "3    20.0\n",
       "4    40.0\n",
       "5    64.0\n",
       "6    20.0\n",
       "Name: sales, dtype: float64"
      ]
     },
     "execution_count": 520,
     "metadata": {},
     "output_type": "execute_result"
    }
   ],
   "source": [
    "q1 = d['sales'].quantile(.25)\n",
    "q3 = d['sales'].quantile(.75)\n",
    "\n",
    "iqr = q3-q1\n",
    "\n",
    "lower_limit = q1-1.5 *iqr \n",
    "\n",
    "upper_limit = q3+1.5 *iqr \n",
    "\n",
    "med  = d['sales'].median()\n",
    "\n",
    "d['sales'].apply(lambda x: med if x<lower_limit or x>upper_limit else x)\n"
   ]
  },
  {
   "cell_type": "code",
   "execution_count": null,
   "id": "b42356cd",
   "metadata": {},
   "outputs": [],
   "source": []
  },
  {
   "cell_type": "code",
   "execution_count": null,
   "id": "278644f9",
   "metadata": {},
   "outputs": [],
   "source": []
  },
  {
   "cell_type": "code",
   "execution_count": null,
   "id": "75385176",
   "metadata": {},
   "outputs": [],
   "source": []
  },
  {
   "cell_type": "code",
   "execution_count": 27,
   "id": "622223c1",
   "metadata": {},
   "outputs": [],
   "source": [
    "month_df = month_df.set_index('Order Date')"
   ]
  },
  {
   "cell_type": "code",
   "execution_count": 28,
   "id": "04d97ee1",
   "metadata": {},
   "outputs": [
    {
     "data": {
      "text/html": [
       "<div>\n",
       "<style scoped>\n",
       "    .dataframe tbody tr th:only-of-type {\n",
       "        vertical-align: middle;\n",
       "    }\n",
       "\n",
       "    .dataframe tbody tr th {\n",
       "        vertical-align: top;\n",
       "    }\n",
       "\n",
       "    .dataframe thead th {\n",
       "        text-align: right;\n",
       "    }\n",
       "</style>\n",
       "<table border=\"1\" class=\"dataframe\">\n",
       "  <thead>\n",
       "    <tr style=\"text-align: right;\">\n",
       "      <th></th>\n",
       "      <th>Sub-Category</th>\n",
       "      <th>Region</th>\n",
       "      <th>City</th>\n",
       "      <th>Quantity</th>\n",
       "      <th>Discount</th>\n",
       "      <th>Sales</th>\n",
       "      <th>Month</th>\n",
       "      <th>Year</th>\n",
       "    </tr>\n",
       "    <tr>\n",
       "      <th>Order Date</th>\n",
       "      <th></th>\n",
       "      <th></th>\n",
       "      <th></th>\n",
       "      <th></th>\n",
       "      <th></th>\n",
       "      <th></th>\n",
       "      <th></th>\n",
       "      <th></th>\n",
       "    </tr>\n",
       "  </thead>\n",
       "  <tbody>\n",
       "    <tr>\n",
       "      <th>2016-11-08</th>\n",
       "      <td>Bookcases</td>\n",
       "      <td>South</td>\n",
       "      <td>Henderson</td>\n",
       "      <td>2</td>\n",
       "      <td>0.00</td>\n",
       "      <td>261.9600</td>\n",
       "      <td>11</td>\n",
       "      <td>2016</td>\n",
       "    </tr>\n",
       "    <tr>\n",
       "      <th>2016-11-08</th>\n",
       "      <td>Chairs</td>\n",
       "      <td>South</td>\n",
       "      <td>Henderson</td>\n",
       "      <td>3</td>\n",
       "      <td>0.00</td>\n",
       "      <td>731.9400</td>\n",
       "      <td>11</td>\n",
       "      <td>2016</td>\n",
       "    </tr>\n",
       "    <tr>\n",
       "      <th>2015-10-11</th>\n",
       "      <td>Tables</td>\n",
       "      <td>South</td>\n",
       "      <td>Fort Lauderdale</td>\n",
       "      <td>5</td>\n",
       "      <td>0.45</td>\n",
       "      <td>957.5775</td>\n",
       "      <td>10</td>\n",
       "      <td>2015</td>\n",
       "    </tr>\n",
       "    <tr>\n",
       "      <th>2014-06-09</th>\n",
       "      <td>Furnishings</td>\n",
       "      <td>West</td>\n",
       "      <td>Los Angeles</td>\n",
       "      <td>7</td>\n",
       "      <td>0.00</td>\n",
       "      <td>48.8600</td>\n",
       "      <td>6</td>\n",
       "      <td>2014</td>\n",
       "    </tr>\n",
       "    <tr>\n",
       "      <th>2014-06-09</th>\n",
       "      <td>Tables</td>\n",
       "      <td>West</td>\n",
       "      <td>Los Angeles</td>\n",
       "      <td>9</td>\n",
       "      <td>0.20</td>\n",
       "      <td>1706.1840</td>\n",
       "      <td>6</td>\n",
       "      <td>2014</td>\n",
       "    </tr>\n",
       "    <tr>\n",
       "      <th>...</th>\n",
       "      <td>...</td>\n",
       "      <td>...</td>\n",
       "      <td>...</td>\n",
       "      <td>...</td>\n",
       "      <td>...</td>\n",
       "      <td>...</td>\n",
       "      <td>...</td>\n",
       "      <td>...</td>\n",
       "    </tr>\n",
       "    <tr>\n",
       "      <th>2015-03-19</th>\n",
       "      <td>Bookcases</td>\n",
       "      <td>Central</td>\n",
       "      <td>Houston</td>\n",
       "      <td>4</td>\n",
       "      <td>0.32</td>\n",
       "      <td>383.4656</td>\n",
       "      <td>3</td>\n",
       "      <td>2015</td>\n",
       "    </tr>\n",
       "    <tr>\n",
       "      <th>2016-12-05</th>\n",
       "      <td>Furnishings</td>\n",
       "      <td>East</td>\n",
       "      <td>Newark</td>\n",
       "      <td>1</td>\n",
       "      <td>0.00</td>\n",
       "      <td>13.4000</td>\n",
       "      <td>12</td>\n",
       "      <td>2016</td>\n",
       "    </tr>\n",
       "    <tr>\n",
       "      <th>2015-09-06</th>\n",
       "      <td>Tables</td>\n",
       "      <td>South</td>\n",
       "      <td>Lafayette</td>\n",
       "      <td>1</td>\n",
       "      <td>0.00</td>\n",
       "      <td>85.9800</td>\n",
       "      <td>9</td>\n",
       "      <td>2015</td>\n",
       "    </tr>\n",
       "    <tr>\n",
       "      <th>2014-01-21</th>\n",
       "      <td>Furnishings</td>\n",
       "      <td>South</td>\n",
       "      <td>Miami</td>\n",
       "      <td>3</td>\n",
       "      <td>0.20</td>\n",
       "      <td>25.2480</td>\n",
       "      <td>1</td>\n",
       "      <td>2014</td>\n",
       "    </tr>\n",
       "    <tr>\n",
       "      <th>2017-02-26</th>\n",
       "      <td>Furnishings</td>\n",
       "      <td>West</td>\n",
       "      <td>Costa Mesa</td>\n",
       "      <td>2</td>\n",
       "      <td>0.00</td>\n",
       "      <td>91.9600</td>\n",
       "      <td>2</td>\n",
       "      <td>2017</td>\n",
       "    </tr>\n",
       "  </tbody>\n",
       "</table>\n",
       "<p>2121 rows × 8 columns</p>\n",
       "</div>"
      ],
      "text/plain": [
       "           Sub-Category   Region             City  Quantity  Discount  \\\n",
       "Order Date                                                              \n",
       "2016-11-08    Bookcases    South        Henderson         2      0.00   \n",
       "2016-11-08       Chairs    South        Henderson         3      0.00   \n",
       "2015-10-11       Tables    South  Fort Lauderdale         5      0.45   \n",
       "2014-06-09  Furnishings     West      Los Angeles         7      0.00   \n",
       "2014-06-09       Tables     West      Los Angeles         9      0.20   \n",
       "...                 ...      ...              ...       ...       ...   \n",
       "2015-03-19    Bookcases  Central          Houston         4      0.32   \n",
       "2016-12-05  Furnishings     East           Newark         1      0.00   \n",
       "2015-09-06       Tables    South        Lafayette         1      0.00   \n",
       "2014-01-21  Furnishings    South            Miami         3      0.20   \n",
       "2017-02-26  Furnishings     West       Costa Mesa         2      0.00   \n",
       "\n",
       "                Sales  Month  Year  \n",
       "Order Date                          \n",
       "2016-11-08   261.9600     11  2016  \n",
       "2016-11-08   731.9400     11  2016  \n",
       "2015-10-11   957.5775     10  2015  \n",
       "2014-06-09    48.8600      6  2014  \n",
       "2014-06-09  1706.1840      6  2014  \n",
       "...               ...    ...   ...  \n",
       "2015-03-19   383.4656      3  2015  \n",
       "2016-12-05    13.4000     12  2016  \n",
       "2015-09-06    85.9800      9  2015  \n",
       "2014-01-21    25.2480      1  2014  \n",
       "2017-02-26    91.9600      2  2017  \n",
       "\n",
       "[2121 rows x 8 columns]"
      ]
     },
     "execution_count": 28,
     "metadata": {},
     "output_type": "execute_result"
    }
   ],
   "source": [
    "month_df"
   ]
  },
  {
   "cell_type": "code",
   "execution_count": 43,
   "id": "4b78610a",
   "metadata": {
    "scrolled": true
   },
   "outputs": [
    {
     "data": {
      "text/plain": [
       "Order Date\n",
       "2014-01-31     6242.5250\n",
       "2014-02-28     1839.6580\n",
       "2014-03-31    14573.9560\n",
       "2014-04-30     7944.8370\n",
       "2014-05-31     6912.7870\n",
       "2014-06-30    13206.1256\n",
       "2014-07-31    10821.0510\n",
       "2014-08-31     7320.3465\n",
       "2014-09-30    23816.4808\n",
       "2014-10-31    12304.2470\n",
       "2014-11-30    21564.8727\n",
       "2014-12-31    30645.9665\n",
       "2015-01-31    11739.9416\n",
       "2015-02-28     3134.3740\n",
       "2015-03-31    12499.7830\n",
       "2015-04-30    10475.6985\n",
       "2015-05-31     9374.9505\n",
       "2015-06-30     7714.1790\n",
       "2015-07-31    13674.4200\n",
       "2015-08-31     9638.5922\n",
       "2015-09-30    26273.0230\n",
       "2015-10-31    12026.6235\n",
       "2015-11-30    30880.8325\n",
       "2015-12-31    23085.8192\n",
       "2016-01-31     7622.7430\n",
       "2016-02-29     3925.5510\n",
       "2016-03-31    12801.0920\n",
       "2016-04-30    13212.0900\n",
       "2016-05-31    15119.8350\n",
       "2016-06-30    13070.5720\n",
       "2016-07-31    13068.5190\n",
       "2016-08-31    12483.2323\n",
       "2016-09-30    27262.8809\n",
       "2016-10-31    11872.5770\n",
       "2016-11-30    31783.6288\n",
       "2016-12-31    36678.7150\n",
       "2017-01-31     5964.0320\n",
       "2017-02-28     6866.3374\n",
       "2017-03-31    10893.4448\n",
       "2017-04-30     9065.9581\n",
       "2017-05-31    16957.5582\n",
       "2017-06-30    19008.5867\n",
       "2017-07-31    11813.0220\n",
       "2017-08-31    15441.8740\n",
       "2017-09-30    29028.2060\n",
       "2017-10-31    21884.0682\n",
       "2017-11-30    37056.7150\n",
       "2017-12-31    31407.4668\n",
       "Freq: M, Name: Sales, dtype: float64"
      ]
     },
     "execution_count": 43,
     "metadata": {},
     "output_type": "execute_result"
    }
   ],
   "source": [
    "# Monthly Sales \n",
    "\n",
    "m_sales = month_df['Sales'].resample('M').sum()\n",
    "m_sales"
   ]
  },
  {
   "cell_type": "code",
   "execution_count": 55,
   "id": "a7553e55",
   "metadata": {},
   "outputs": [
    {
     "data": {
      "text/plain": [
       "Order Date\n",
       "2014-01-12     2712.4280\n",
       "2014-01-19     1250.4730\n",
       "2014-01-26     1655.9580\n",
       "2014-02-02      623.6660\n",
       "2014-02-09       14.5600\n",
       "                 ...    \n",
       "2017-12-03    16008.1720\n",
       "2017-12-10     8794.4040\n",
       "2017-12-17     4639.8190\n",
       "2017-12-24     7274.0430\n",
       "2017-12-31     4037.5648\n",
       "Freq: W-SUN, Name: Sales, Length: 208, dtype: float64"
      ]
     },
     "execution_count": 55,
     "metadata": {},
     "output_type": "execute_result"
    }
   ],
   "source": [
    "# Weekly Sales \n",
    "\n",
    "w_sales = month_df['Sales'].resample('W').sum()\n",
    "w_sales"
   ]
  },
  {
   "cell_type": "code",
   "execution_count": 38,
   "id": "54b7eba9",
   "metadata": {},
   "outputs": [
    {
     "data": {
      "text/plain": [
       "Order Date\n",
       "2014-01-06    2573.8200\n",
       "2014-01-07      76.7280\n",
       "2014-01-08       0.0000\n",
       "2014-01-09       0.0000\n",
       "2014-01-10      51.9400\n",
       "                ...    \n",
       "2017-12-26       0.0000\n",
       "2017-12-27       0.0000\n",
       "2017-12-28     551.2568\n",
       "2017-12-29    2330.7180\n",
       "2017-12-30     323.1360\n",
       "Freq: D, Name: Sales, Length: 1455, dtype: float64"
      ]
     },
     "execution_count": 38,
     "metadata": {},
     "output_type": "execute_result"
    }
   ],
   "source": [
    "# Daily Sales \n",
    "\n",
    "D_sales = month_df['Sales'].resample('D').sum()\n",
    "D_sales"
   ]
  },
  {
   "cell_type": "code",
   "execution_count": 48,
   "id": "19ce057a",
   "metadata": {},
   "outputs": [],
   "source": [
    "import seaborn as sns\n",
    "import matplotlib.pyplot as plt"
   ]
  },
  {
   "cell_type": "code",
   "execution_count": 61,
   "id": "71b04ab1",
   "metadata": {},
   "outputs": [
    {
     "name": "stderr",
     "output_type": "stream",
     "text": [
      "C:\\Users\\PMYLS\\anaconda3\\lib\\site-packages\\seaborn\\_decorators.py:36: FutureWarning: Pass the following variables as keyword args: x, y. From version 0.12, the only valid positional argument will be `data`, and passing other arguments without an explicit keyword will result in an error or misinterpretation.\n",
      "  warnings.warn(\n"
     ]
    },
    {
     "data": {
      "text/plain": [
       "<AxesSubplot:xlabel='Order Date'>"
      ]
     },
     "execution_count": 61,
     "metadata": {},
     "output_type": "execute_result"
    },
    {
     "data": {
      "image/png": "[encoded data removed]",
      "text/plain": [
       "<Figure size 1000x600 with 1 Axes>"
      ]
     },
     "metadata": {},
     "output_type": "display_data"
    }
   ],
   "source": [
    "plt.figure(figsize=(10, 6))\n",
    "sns.lineplot(m_sales.index,m_sales.values,marker='o')\n"
   ]
  },
  {
   "cell_type": "code",
   "execution_count": 63,
   "id": "e263412d",
   "metadata": {},
   "outputs": [
    {
     "name": "stderr",
     "output_type": "stream",
     "text": [
      "C:\\Users\\PMYLS\\anaconda3\\lib\\site-packages\\seaborn\\_decorators.py:36: FutureWarning: Pass the following variables as keyword args: x, y. From version 0.12, the only valid positional argument will be `data`, and passing other arguments without an explicit keyword will result in an error or misinterpretation.\n",
      "  warnings.warn(\n"
     ]
    },
    {
     "data": {
      "text/plain": [
       "<AxesSubplot:xlabel='Order Date'>"
      ]
     },
     "execution_count": 63,
     "metadata": {},
     "output_type": "execute_result"
    },
    {
     "data": {
      "image/png": "[encoded data removed]",
      "text/plain": [
       "<Figure size 1000x800 with 1 Axes>"
      ]
     },
     "metadata": {},
     "output_type": "display_data"
    }
   ],
   "source": [
    "plt.figure(figsize=(10,8))\n",
    "sns.lineplot(w_sales.index,w_sales.values)"
   ]
  },
  {
   "cell_type": "code",
   "execution_count": 66,
   "id": "a8957ded",
   "metadata": {},
   "outputs": [
    {
     "data": {
      "text/html": [
       "<div>\n",
       "<style scoped>\n",
       "    .dataframe tbody tr th:only-of-type {\n",
       "        vertical-align: middle;\n",
       "    }\n",
       "\n",
       "    .dataframe tbody tr th {\n",
       "        vertical-align: top;\n",
       "    }\n",
       "\n",
       "    .dataframe thead th {\n",
       "        text-align: right;\n",
       "    }\n",
       "</style>\n",
       "<table border=\"1\" class=\"dataframe\">\n",
       "  <thead>\n",
       "    <tr style=\"text-align: right;\">\n",
       "      <th></th>\n",
       "      <th>Order Date</th>\n",
       "      <th>Sub-Category</th>\n",
       "      <th>Region</th>\n",
       "      <th>City</th>\n",
       "      <th>Quantity</th>\n",
       "      <th>Discount</th>\n",
       "      <th>Sales</th>\n",
       "      <th>Month</th>\n",
       "      <th>Year</th>\n",
       "    </tr>\n",
       "  </thead>\n",
       "  <tbody>\n",
       "    <tr>\n",
       "      <th>0</th>\n",
       "      <td>2016-11-08</td>\n",
       "      <td>Bookcases</td>\n",
       "      <td>South</td>\n",
       "      <td>Henderson</td>\n",
       "      <td>2</td>\n",
       "      <td>0.00</td>\n",
       "      <td>261.9600</td>\n",
       "      <td>11</td>\n",
       "      <td>2016</td>\n",
       "    </tr>\n",
       "    <tr>\n",
       "      <th>1</th>\n",
       "      <td>2016-11-08</td>\n",
       "      <td>Chairs</td>\n",
       "      <td>South</td>\n",
       "      <td>Henderson</td>\n",
       "      <td>3</td>\n",
       "      <td>0.00</td>\n",
       "      <td>731.9400</td>\n",
       "      <td>11</td>\n",
       "      <td>2016</td>\n",
       "    </tr>\n",
       "    <tr>\n",
       "      <th>2</th>\n",
       "      <td>2015-10-11</td>\n",
       "      <td>Tables</td>\n",
       "      <td>South</td>\n",
       "      <td>Fort Lauderdale</td>\n",
       "      <td>5</td>\n",
       "      <td>0.45</td>\n",
       "      <td>957.5775</td>\n",
       "      <td>10</td>\n",
       "      <td>2015</td>\n",
       "    </tr>\n",
       "    <tr>\n",
       "      <th>3</th>\n",
       "      <td>2014-06-09</td>\n",
       "      <td>Furnishings</td>\n",
       "      <td>West</td>\n",
       "      <td>Los Angeles</td>\n",
       "      <td>7</td>\n",
       "      <td>0.00</td>\n",
       "      <td>48.8600</td>\n",
       "      <td>6</td>\n",
       "      <td>2014</td>\n",
       "    </tr>\n",
       "    <tr>\n",
       "      <th>4</th>\n",
       "      <td>2014-06-09</td>\n",
       "      <td>Tables</td>\n",
       "      <td>West</td>\n",
       "      <td>Los Angeles</td>\n",
       "      <td>9</td>\n",
       "      <td>0.20</td>\n",
       "      <td>1706.1840</td>\n",
       "      <td>6</td>\n",
       "      <td>2014</td>\n",
       "    </tr>\n",
       "    <tr>\n",
       "      <th>...</th>\n",
       "      <td>...</td>\n",
       "      <td>...</td>\n",
       "      <td>...</td>\n",
       "      <td>...</td>\n",
       "      <td>...</td>\n",
       "      <td>...</td>\n",
       "      <td>...</td>\n",
       "      <td>...</td>\n",
       "      <td>...</td>\n",
       "    </tr>\n",
       "    <tr>\n",
       "      <th>2116</th>\n",
       "      <td>2015-03-19</td>\n",
       "      <td>Bookcases</td>\n",
       "      <td>Central</td>\n",
       "      <td>Houston</td>\n",
       "      <td>4</td>\n",
       "      <td>0.32</td>\n",
       "      <td>383.4656</td>\n",
       "      <td>3</td>\n",
       "      <td>2015</td>\n",
       "    </tr>\n",
       "    <tr>\n",
       "      <th>2117</th>\n",
       "      <td>2016-12-05</td>\n",
       "      <td>Furnishings</td>\n",
       "      <td>East</td>\n",
       "      <td>Newark</td>\n",
       "      <td>1</td>\n",
       "      <td>0.00</td>\n",
       "      <td>13.4000</td>\n",
       "      <td>12</td>\n",
       "      <td>2016</td>\n",
       "    </tr>\n",
       "    <tr>\n",
       "      <th>2118</th>\n",
       "      <td>2015-09-06</td>\n",
       "      <td>Tables</td>\n",
       "      <td>South</td>\n",
       "      <td>Lafayette</td>\n",
       "      <td>1</td>\n",
       "      <td>0.00</td>\n",
       "      <td>85.9800</td>\n",
       "      <td>9</td>\n",
       "      <td>2015</td>\n",
       "    </tr>\n",
       "    <tr>\n",
       "      <th>2119</th>\n",
       "      <td>2014-01-21</td>\n",
       "      <td>Furnishings</td>\n",
       "      <td>South</td>\n",
       "      <td>Miami</td>\n",
       "      <td>3</td>\n",
       "      <td>0.20</td>\n",
       "      <td>25.2480</td>\n",
       "      <td>1</td>\n",
       "      <td>2014</td>\n",
       "    </tr>\n",
       "    <tr>\n",
       "      <th>2120</th>\n",
       "      <td>2017-02-26</td>\n",
       "      <td>Furnishings</td>\n",
       "      <td>West</td>\n",
       "      <td>Costa Mesa</td>\n",
       "      <td>2</td>\n",
       "      <td>0.00</td>\n",
       "      <td>91.9600</td>\n",
       "      <td>2</td>\n",
       "      <td>2017</td>\n",
       "    </tr>\n",
       "  </tbody>\n",
       "</table>\n",
       "<p>2121 rows × 9 columns</p>\n",
       "</div>"
      ],
      "text/plain": [
       "     Order Date Sub-Category   Region             City  Quantity  Discount  \\\n",
       "0    2016-11-08    Bookcases    South        Henderson         2      0.00   \n",
       "1    2016-11-08       Chairs    South        Henderson         3      0.00   \n",
       "2    2015-10-11       Tables    South  Fort Lauderdale         5      0.45   \n",
       "3    2014-06-09  Furnishings     West      Los Angeles         7      0.00   \n",
       "4    2014-06-09       Tables     West      Los Angeles         9      0.20   \n",
       "...         ...          ...      ...              ...       ...       ...   \n",
       "2116 2015-03-19    Bookcases  Central          Houston         4      0.32   \n",
       "2117 2016-12-05  Furnishings     East           Newark         1      0.00   \n",
       "2118 2015-09-06       Tables    South        Lafayette         1      0.00   \n",
       "2119 2014-01-21  Furnishings    South            Miami         3      0.20   \n",
       "2120 2017-02-26  Furnishings     West       Costa Mesa         2      0.00   \n",
       "\n",
       "          Sales  Month  Year  \n",
       "0      261.9600     11  2016  \n",
       "1      731.9400     11  2016  \n",
       "2      957.5775     10  2015  \n",
       "3       48.8600      6  2014  \n",
       "4     1706.1840      6  2014  \n",
       "...         ...    ...   ...  \n",
       "2116   383.4656      3  2015  \n",
       "2117    13.4000     12  2016  \n",
       "2118    85.9800      9  2015  \n",
       "2119    25.2480      1  2014  \n",
       "2120    91.9600      2  2017  \n",
       "\n",
       "[2121 rows x 9 columns]"
      ]
     },
     "execution_count": 66,
     "metadata": {},
     "output_type": "execute_result"
    }
   ],
   "source": [
    "df"
   ]
  },
  {
   "cell_type": "code",
   "execution_count": 78,
   "id": "ff46b01f",
   "metadata": {},
   "outputs": [],
   "source": [
    "\n",
    "import chardet\n",
    "\n",
    "with open('stores_sales_forecasting.csv', 'rb') as f:\n",
    "    result = chardet.detect(f.read())\n",
    "    \n",
    "encoding = result['encoding']\n",
    "data = pd.read_csv('stores_sales_forecasting.csv', encoding=encoding)"
   ]
  },
  {
   "cell_type": "code",
   "execution_count": 79,
   "id": "49124f56",
   "metadata": {},
   "outputs": [],
   "source": [
    "data_df = data.set_index('Order Date')"
   ]
  },
  {
   "cell_type": "code",
   "execution_count": 80,
   "id": "b4a6ae5e",
   "metadata": {},
   "outputs": [
    {
     "data": {
      "text/html": [
       "<div>\n",
       "<style scoped>\n",
       "    .dataframe tbody tr th:only-of-type {\n",
       "        vertical-align: middle;\n",
       "    }\n",
       "\n",
       "    .dataframe tbody tr th {\n",
       "        vertical-align: top;\n",
       "    }\n",
       "\n",
       "    .dataframe thead th {\n",
       "        text-align: right;\n",
       "    }\n",
       "</style>\n",
       "<table border=\"1\" class=\"dataframe\">\n",
       "  <thead>\n",
       "    <tr style=\"text-align: right;\">\n",
       "      <th></th>\n",
       "      <th>Row ID</th>\n",
       "      <th>Order ID</th>\n",
       "      <th>Ship Date</th>\n",
       "      <th>Ship Mode</th>\n",
       "      <th>Customer ID</th>\n",
       "      <th>Customer Name</th>\n",
       "      <th>Segment</th>\n",
       "      <th>Country</th>\n",
       "      <th>City</th>\n",
       "      <th>State</th>\n",
       "      <th>Postal Code</th>\n",
       "      <th>Region</th>\n",
       "      <th>Product ID</th>\n",
       "      <th>Category</th>\n",
       "      <th>Sub-Category</th>\n",
       "      <th>Product Name</th>\n",
       "      <th>Sales</th>\n",
       "      <th>Quantity</th>\n",
       "      <th>Discount</th>\n",
       "      <th>Profit</th>\n",
       "    </tr>\n",
       "    <tr>\n",
       "      <th>Order Date</th>\n",
       "      <th></th>\n",
       "      <th></th>\n",
       "      <th></th>\n",
       "      <th></th>\n",
       "      <th></th>\n",
       "      <th></th>\n",
       "      <th></th>\n",
       "      <th></th>\n",
       "      <th></th>\n",
       "      <th></th>\n",
       "      <th></th>\n",
       "      <th></th>\n",
       "      <th></th>\n",
       "      <th></th>\n",
       "      <th></th>\n",
       "      <th></th>\n",
       "      <th></th>\n",
       "      <th></th>\n",
       "      <th></th>\n",
       "      <th></th>\n",
       "    </tr>\n",
       "  </thead>\n",
       "  <tbody>\n",
       "    <tr>\n",
       "      <th>11/20/2016</th>\n",
       "      <td>3239</td>\n",
       "      <td>US-2016-127971</td>\n",
       "      <td>11/27/2016</td>\n",
       "      <td>Standard Class</td>\n",
       "      <td>DW-13195</td>\n",
       "      <td>David Wiener</td>\n",
       "      <td>Corporate</td>\n",
       "      <td>United States</td>\n",
       "      <td>Houston</td>\n",
       "      <td>Texas</td>\n",
       "      <td>77095</td>\n",
       "      <td>Central</td>\n",
       "      <td>FUR-CH-10003774</td>\n",
       "      <td>Furniture</td>\n",
       "      <td>Chairs</td>\n",
       "      <td>Global Wood Trimmed Manager's Task Chair, Khaki</td>\n",
       "      <td>318.43</td>\n",
       "      <td>5</td>\n",
       "      <td>0.3</td>\n",
       "      <td>-77.333</td>\n",
       "    </tr>\n",
       "  </tbody>\n",
       "</table>\n",
       "</div>"
      ],
      "text/plain": [
       "            Row ID        Order ID   Ship Date       Ship Mode Customer ID  \\\n",
       "Order Date                                                                   \n",
       "11/20/2016    3239  US-2016-127971  11/27/2016  Standard Class    DW-13195   \n",
       "\n",
       "           Customer Name    Segment        Country     City  State  \\\n",
       "Order Date                                                           \n",
       "11/20/2016  David Wiener  Corporate  United States  Houston  Texas   \n",
       "\n",
       "            Postal Code   Region       Product ID   Category Sub-Category  \\\n",
       "Order Date                                                                  \n",
       "11/20/2016        77095  Central  FUR-CH-10003774  Furniture       Chairs   \n",
       "\n",
       "                                               Product Name   Sales  Quantity  \\\n",
       "Order Date                                                                      \n",
       "11/20/2016  Global Wood Trimmed Manager's Task Chair, Khaki  318.43         5   \n",
       "\n",
       "            Discount  Profit  \n",
       "Order Date                    \n",
       "11/20/2016       0.3 -77.333  "
      ]
     },
     "execution_count": 80,
     "metadata": {},
     "output_type": "execute_result"
    }
   ],
   "source": [
    "data_df.sample()"
   ]
  },
  {
   "cell_type": "code",
   "execution_count": 87,
   "id": "273d0c11",
   "metadata": {
    "scrolled": true
   },
   "outputs": [
    {
     "data": {
      "text/html": [
       "<div>\n",
       "<style scoped>\n",
       "    .dataframe tbody tr th:only-of-type {\n",
       "        vertical-align: middle;\n",
       "    }\n",
       "\n",
       "    .dataframe tbody tr th {\n",
       "        vertical-align: top;\n",
       "    }\n",
       "\n",
       "    .dataframe thead th {\n",
       "        text-align: right;\n",
       "    }\n",
       "</style>\n",
       "<table border=\"1\" class=\"dataframe\">\n",
       "  <thead>\n",
       "    <tr style=\"text-align: right;\">\n",
       "      <th></th>\n",
       "      <th>Sales</th>\n",
       "      <th>Profit</th>\n",
       "    </tr>\n",
       "    <tr>\n",
       "      <th>Order Date</th>\n",
       "      <th></th>\n",
       "      <th></th>\n",
       "    </tr>\n",
       "  </thead>\n",
       "  <tbody>\n",
       "    <tr>\n",
       "      <th>11/8/2016</th>\n",
       "      <td>261.9600</td>\n",
       "      <td>41.9136</td>\n",
       "    </tr>\n",
       "    <tr>\n",
       "      <th>11/8/2016</th>\n",
       "      <td>731.9400</td>\n",
       "      <td>219.5820</td>\n",
       "    </tr>\n",
       "    <tr>\n",
       "      <th>10/11/2015</th>\n",
       "      <td>957.5775</td>\n",
       "      <td>-383.0310</td>\n",
       "    </tr>\n",
       "    <tr>\n",
       "      <th>6/9/2014</th>\n",
       "      <td>48.8600</td>\n",
       "      <td>14.1694</td>\n",
       "    </tr>\n",
       "    <tr>\n",
       "      <th>6/9/2014</th>\n",
       "      <td>1706.1840</td>\n",
       "      <td>85.3092</td>\n",
       "    </tr>\n",
       "    <tr>\n",
       "      <th>...</th>\n",
       "      <td>...</td>\n",
       "      <td>...</td>\n",
       "    </tr>\n",
       "    <tr>\n",
       "      <th>3/19/2015</th>\n",
       "      <td>383.4656</td>\n",
       "      <td>-67.6704</td>\n",
       "    </tr>\n",
       "    <tr>\n",
       "      <th>12/5/2016</th>\n",
       "      <td>13.4000</td>\n",
       "      <td>6.4320</td>\n",
       "    </tr>\n",
       "    <tr>\n",
       "      <th>9/6/2015</th>\n",
       "      <td>85.9800</td>\n",
       "      <td>22.3548</td>\n",
       "    </tr>\n",
       "    <tr>\n",
       "      <th>1/21/2014</th>\n",
       "      <td>25.2480</td>\n",
       "      <td>4.1028</td>\n",
       "    </tr>\n",
       "    <tr>\n",
       "      <th>2/26/2017</th>\n",
       "      <td>91.9600</td>\n",
       "      <td>15.6332</td>\n",
       "    </tr>\n",
       "  </tbody>\n",
       "</table>\n",
       "<p>2121 rows × 2 columns</p>\n",
       "</div>"
      ],
      "text/plain": [
       "                Sales    Profit\n",
       "Order Date                     \n",
       "11/8/2016    261.9600   41.9136\n",
       "11/8/2016    731.9400  219.5820\n",
       "10/11/2015   957.5775 -383.0310\n",
       "6/9/2014      48.8600   14.1694\n",
       "6/9/2014    1706.1840   85.3092\n",
       "...               ...       ...\n",
       "3/19/2015    383.4656  -67.6704\n",
       "12/5/2016     13.4000    6.4320\n",
       "9/6/2015      85.9800   22.3548\n",
       "1/21/2014     25.2480    4.1028\n",
       "2/26/2017     91.9600   15.6332\n",
       "\n",
       "[2121 rows x 2 columns]"
      ]
     },
     "execution_count": 87,
     "metadata": {},
     "output_type": "execute_result"
    }
   ],
   "source": [
    "sale_profit = data_df[['Sales','Profit']]\n",
    "sale_profit"
   ]
  },
  {
   "cell_type": "code",
   "execution_count": null,
   "id": "f23b2d95",
   "metadata": {},
   "outputs": [],
   "source": []
  },
  {
   "cell_type": "code",
   "execution_count": null,
   "id": "03ad1362",
   "metadata": {},
   "outputs": [],
   "source": []
  },
  {
   "cell_type": "code",
   "execution_count": null,
   "id": "0059947a",
   "metadata": {},
   "outputs": [],
   "source": []
  },
  {
   "cell_type": "code",
   "execution_count": null,
   "id": "6b4ff911",
   "metadata": {},
   "outputs": [],
   "source": []
  },
  {
   "cell_type": "code",
   "execution_count": null,
   "id": "545ff9e5",
   "metadata": {},
   "outputs": [],
   "source": []
  },
  {
   "cell_type": "code",
   "execution_count": null,
   "id": "7a17a6c7",
   "metadata": {},
   "outputs": [],
   "source": []
  },
  {
   "cell_type": "code",
   "execution_count": null,
   "id": "88c19d54",
   "metadata": {},
   "outputs": [],
   "source": []
  },
  {
   "cell_type": "code",
   "execution_count": null,
   "id": "ebb68b9c",
   "metadata": {},
   "outputs": [],
   "source": []
  },
  {
   "cell_type": "code",
   "execution_count": null,
   "id": "64e4f28b",
   "metadata": {},
   "outputs": [],
   "source": []
  },
  {
   "cell_type": "code",
   "execution_count": null,
   "id": "50548498",
   "metadata": {},
   "outputs": [],
   "source": []
  },
  {
   "cell_type": "code",
   "execution_count": null,
   "id": "e3554e85",
   "metadata": {},
   "outputs": [],
   "source": []
  },
  {
   "cell_type": "code",
   "execution_count": null,
   "id": "d422e8ed",
   "metadata": {},
   "outputs": [],
   "source": []
  },
  {
   "cell_type": "code",
   "execution_count": null,
   "id": "2fb17e36",
   "metadata": {},
   "outputs": [],
   "source": []
  },
  {
   "cell_type": "code",
   "execution_count": null,
   "id": "8db9a409",
   "metadata": {},
   "outputs": [],
   "source": []
  },
  {
   "cell_type": "code",
   "execution_count": null,
   "id": "256db4cc",
   "metadata": {},
   "outputs": [],
   "source": []
  },
  {
   "cell_type": "code",
   "execution_count": null,
   "id": "918b729e",
   "metadata": {},
   "outputs": [],
   "source": []
  },
  {
   "cell_type": "code",
   "execution_count": null,
   "id": "8922a0ac",
   "metadata": {},
   "outputs": [],
   "source": []
  },
  {
   "cell_type": "code",
   "execution_count": null,
   "id": "f565a1e6",
   "metadata": {},
   "outputs": [],
   "source": []
  },
  {
   "cell_type": "code",
   "execution_count": null,
   "id": "368606a8",
   "metadata": {},
   "outputs": [],
   "source": []
  },
  {
   "cell_type": "code",
   "execution_count": null,
   "id": "3d10cb76",
   "metadata": {},
   "outputs": [],
   "source": []
  },
  {
   "cell_type": "code",
   "execution_count": null,
   "id": "5ed8daa2",
   "metadata": {},
   "outputs": [],
   "source": []
  },
  {
   "cell_type": "code",
   "execution_count": null,
   "id": "670deff6",
   "metadata": {},
   "outputs": [],
   "source": []
  },
  {
   "cell_type": "code",
   "execution_count": null,
   "id": "2bf9d0ee",
   "metadata": {},
   "outputs": [],
   "source": []
  },
  {
   "cell_type": "code",
   "execution_count": null,
   "id": "19dff527",
   "metadata": {},
   "outputs": [],
   "source": []
  },
  {
   "cell_type": "code",
   "execution_count": null,
   "id": "fce96a82",
   "metadata": {},
   "outputs": [],
   "source": []
  },
  {
   "cell_type": "code",
   "execution_count": null,
   "id": "8f4d20e9",
   "metadata": {},
   "outputs": [],
   "source": []
  },
  {
   "cell_type": "code",
   "execution_count": null,
   "id": "c3ecc0b4",
   "metadata": {},
   "outputs": [],
   "source": []
  },
  {
   "cell_type": "code",
   "execution_count": null,
   "id": "665c1658",
   "metadata": {},
   "outputs": [],
   "source": []
  },
  {
   "cell_type": "code",
   "execution_count": null,
   "id": "47888837",
   "metadata": {},
   "outputs": [],
   "source": []
  },
  {
   "cell_type": "code",
   "execution_count": null,
   "id": "7496382f",
   "metadata": {},
   "outputs": [],
   "source": []
  },
  {
   "cell_type": "code",
   "execution_count": null,
   "id": "95e90d18",
   "metadata": {},
   "outputs": [],
   "source": []
  },
  {
   "cell_type": "code",
   "execution_count": null,
   "id": "7ff5762c",
   "metadata": {},
   "outputs": [],
   "source": []
  },
  {
   "cell_type": "code",
   "execution_count": null,
   "id": "0899f4d3",
   "metadata": {},
   "outputs": [],
   "source": []
  },
  {
   "cell_type": "code",
   "execution_count": null,
   "id": "22c735f2",
   "metadata": {},
   "outputs": [],
   "source": []
  },
  {
   "cell_type": "code",
   "execution_count": null,
   "id": "c582055d",
   "metadata": {},
   "outputs": [],
   "source": []
  },
  {
   "cell_type": "code",
   "execution_count": null,
   "id": "0e2ed377",
   "metadata": {},
   "outputs": [],
   "source": []
  },
  {
   "cell_type": "code",
   "execution_count": null,
   "id": "a7855bf0",
   "metadata": {},
   "outputs": [],
   "source": []
  },
  {
   "cell_type": "markdown",
   "id": "3cb4563a",
   "metadata": {},
   "source": [
    "# General Analysis"
   ]
  },
  {
   "cell_type": "markdown",
   "id": "b9e6aaa4",
   "metadata": {},
   "source": [
    "## Summary of all the Sales"
   ]
  },
  {
   "cell_type": "code",
   "execution_count": 99,
   "id": "b27238a0",
   "metadata": {
    "scrolled": false
   },
   "outputs": [],
   "source": [
    "new_df = df_copy.groupby(['Region','City','Year','Month','Category','Sub-Category'])['Sales'].sum().reset_index()"
   ]
  },
  {
   "cell_type": "code",
   "execution_count": 100,
   "id": "f0266a23",
   "metadata": {},
   "outputs": [
    {
     "data": {
      "text/html": [
       "<div>\n",
       "<style scoped>\n",
       "    .dataframe tbody tr th:only-of-type {\n",
       "        vertical-align: middle;\n",
       "    }\n",
       "\n",
       "    .dataframe tbody tr th {\n",
       "        vertical-align: top;\n",
       "    }\n",
       "\n",
       "    .dataframe thead th {\n",
       "        text-align: right;\n",
       "    }\n",
       "</style>\n",
       "<table border=\"1\" class=\"dataframe\">\n",
       "  <thead>\n",
       "    <tr style=\"text-align: right;\">\n",
       "      <th></th>\n",
       "      <th>Region</th>\n",
       "      <th>City</th>\n",
       "      <th>Year</th>\n",
       "      <th>Month</th>\n",
       "      <th>Category</th>\n",
       "      <th>Sub-Category</th>\n",
       "      <th>Sales</th>\n",
       "    </tr>\n",
       "  </thead>\n",
       "  <tbody>\n",
       "    <tr>\n",
       "      <th>0</th>\n",
       "      <td>Central</td>\n",
       "      <td>Allen</td>\n",
       "      <td>2015</td>\n",
       "      <td>5</td>\n",
       "      <td>Furniture</td>\n",
       "      <td>Tables</td>\n",
       "      <td>244.0060</td>\n",
       "    </tr>\n",
       "    <tr>\n",
       "      <th>1</th>\n",
       "      <td>Central</td>\n",
       "      <td>Amarillo</td>\n",
       "      <td>2015</td>\n",
       "      <td>10</td>\n",
       "      <td>Furniture</td>\n",
       "      <td>Chairs</td>\n",
       "      <td>2453.4300</td>\n",
       "    </tr>\n",
       "    <tr>\n",
       "      <th>2</th>\n",
       "      <td>Central</td>\n",
       "      <td>Amarillo</td>\n",
       "      <td>2016</td>\n",
       "      <td>1</td>\n",
       "      <td>Furniture</td>\n",
       "      <td>Furnishings</td>\n",
       "      <td>23.0760</td>\n",
       "    </tr>\n",
       "    <tr>\n",
       "      <th>3</th>\n",
       "      <td>Central</td>\n",
       "      <td>Amarillo</td>\n",
       "      <td>2016</td>\n",
       "      <td>5</td>\n",
       "      <td>Furniture</td>\n",
       "      <td>Chairs</td>\n",
       "      <td>366.7440</td>\n",
       "    </tr>\n",
       "    <tr>\n",
       "      <th>4</th>\n",
       "      <td>Central</td>\n",
       "      <td>Amarillo</td>\n",
       "      <td>2017</td>\n",
       "      <td>3</td>\n",
       "      <td>Furniture</td>\n",
       "      <td>Bookcases</td>\n",
       "      <td>205.3328</td>\n",
       "    </tr>\n",
       "    <tr>\n",
       "      <th>...</th>\n",
       "      <td>...</td>\n",
       "      <td>...</td>\n",
       "      <td>...</td>\n",
       "      <td>...</td>\n",
       "      <td>...</td>\n",
       "      <td>...</td>\n",
       "      <td>...</td>\n",
       "    </tr>\n",
       "    <tr>\n",
       "      <th>1690</th>\n",
       "      <td>West</td>\n",
       "      <td>Vancouver</td>\n",
       "      <td>2017</td>\n",
       "      <td>10</td>\n",
       "      <td>Furniture</td>\n",
       "      <td>Furnishings</td>\n",
       "      <td>9.6400</td>\n",
       "    </tr>\n",
       "    <tr>\n",
       "      <th>1691</th>\n",
       "      <td>West</td>\n",
       "      <td>West Jordan</td>\n",
       "      <td>2015</td>\n",
       "      <td>11</td>\n",
       "      <td>Furniture</td>\n",
       "      <td>Furnishings</td>\n",
       "      <td>66.6900</td>\n",
       "    </tr>\n",
       "    <tr>\n",
       "      <th>1692</th>\n",
       "      <td>West</td>\n",
       "      <td>Westminster</td>\n",
       "      <td>2017</td>\n",
       "      <td>7</td>\n",
       "      <td>Furniture</td>\n",
       "      <td>Furnishings</td>\n",
       "      <td>295.5300</td>\n",
       "    </tr>\n",
       "    <tr>\n",
       "      <th>1693</th>\n",
       "      <td>West</td>\n",
       "      <td>Westminster</td>\n",
       "      <td>2017</td>\n",
       "      <td>8</td>\n",
       "      <td>Furniture</td>\n",
       "      <td>Chairs</td>\n",
       "      <td>207.1840</td>\n",
       "    </tr>\n",
       "    <tr>\n",
       "      <th>1694</th>\n",
       "      <td>West</td>\n",
       "      <td>Westminster</td>\n",
       "      <td>2017</td>\n",
       "      <td>8</td>\n",
       "      <td>Furniture</td>\n",
       "      <td>Furnishings</td>\n",
       "      <td>51.7500</td>\n",
       "    </tr>\n",
       "  </tbody>\n",
       "</table>\n",
       "<p>1695 rows × 7 columns</p>\n",
       "</div>"
      ],
      "text/plain": [
       "       Region         City  Year  Month   Category Sub-Category      Sales\n",
       "0     Central        Allen  2015      5  Furniture       Tables   244.0060\n",
       "1     Central     Amarillo  2015     10  Furniture       Chairs  2453.4300\n",
       "2     Central     Amarillo  2016      1  Furniture  Furnishings    23.0760\n",
       "3     Central     Amarillo  2016      5  Furniture       Chairs   366.7440\n",
       "4     Central     Amarillo  2017      3  Furniture    Bookcases   205.3328\n",
       "...       ...          ...   ...    ...        ...          ...        ...\n",
       "1690     West    Vancouver  2017     10  Furniture  Furnishings     9.6400\n",
       "1691     West  West Jordan  2015     11  Furniture  Furnishings    66.6900\n",
       "1692     West  Westminster  2017      7  Furniture  Furnishings   295.5300\n",
       "1693     West  Westminster  2017      8  Furniture       Chairs   207.1840\n",
       "1694     West  Westminster  2017      8  Furniture  Furnishings    51.7500\n",
       "\n",
       "[1695 rows x 7 columns]"
      ]
     },
     "execution_count": 100,
     "metadata": {},
     "output_type": "execute_result"
    }
   ],
   "source": [
    "new_df"
   ]
  },
  {
   "cell_type": "code",
   "execution_count": 94,
   "id": "f2e5d263",
   "metadata": {},
   "outputs": [],
   "source": [
    "import seaborn as sns\n",
    "import matplotlib.pyplot as plt"
   ]
  },
  {
   "cell_type": "code",
   "execution_count": 104,
   "id": "d6310bfc",
   "metadata": {},
   "outputs": [
    {
     "data": {
      "text/plain": [
       "<matplotlib.collections.PathCollection at 0x20ad0c64a00>"
      ]
     },
     "execution_count": 104,
     "metadata": {},
     "output_type": "execute_result"
    },
    {
     "data": {
      "image/png": "[encoded data removed]",
      "text/plain": [
       "<Figure size 640x480 with 1 Axes>"
      ]
     },
     "metadata": {},
     "output_type": "display_data"
    }
   ],
   "source": [
    "plt.scatter(new_df['Month'],new_df['Sales'])"
   ]
  },
  {
   "cell_type": "code",
   "execution_count": 117,
   "id": "9c66724c",
   "metadata": {},
   "outputs": [
    {
     "data": {
      "text/plain": [
       "676     8129.205\n",
       "622     6279.008\n",
       "599     6056.469\n",
       "779     4416.174\n",
       "444     4404.900\n",
       "1245    4375.536\n",
       "1609    4353.170\n",
       "914     4297.644\n",
       "440     4007.840\n",
       "628     3731.814\n",
       "Name: Sales, dtype: float64"
      ]
     },
     "execution_count": 117,
     "metadata": {},
     "output_type": "execute_result"
    }
   ],
   "source": [
    "new_df['Sales'].sort_values(ascending=False).head(10)"
   ]
  },
  {
   "cell_type": "code",
   "execution_count": 120,
   "id": "1ae81ab7",
   "metadata": {},
   "outputs": [
    {
     "data": {
      "text/plain": [
       "<BarContainer object of 1695 artists>"
      ]
     },
     "execution_count": 120,
     "metadata": {},
     "output_type": "execute_result"
    },
    {
     "data": {
      "image/png": "[encoded data removed]",
      "text/plain": [
       "<Figure size 640x480 with 1 Axes>"
      ]
     },
     "metadata": {},
     "output_type": "display_data"
    }
   ],
   "source": [
    "plt.bar(new_df['Region'], new_df['Sales'],)"
   ]
  },
  {
   "cell_type": "code",
   "execution_count": 140,
   "id": "78c18e89",
   "metadata": {},
   "outputs": [
    {
     "data": {
      "text/plain": [
       "<AxesSubplot:xlabel='Region', ylabel='Sales'>"
      ]
     },
     "execution_count": 140,
     "metadata": {},
     "output_type": "execute_result"
    },
    {
     "data": {
      "image/png": "[encoded data removed]",
      "text/plain": [
       "<Figure size 640x480 with 1 Axes>"
      ]
     },
     "metadata": {},
     "output_type": "display_data"
    }
   ],
   "source": [
    "sns.barplot(data=new_df,x='Region',y='Sales',hue='Year',palette = \"Blues\",orient='v')"
   ]
  },
  {
   "cell_type": "code",
   "execution_count": 144,
   "id": "120ab360",
   "metadata": {},
   "outputs": [
    {
     "data": {
      "text/plain": [
       "<AxesSubplot:xlabel='Sales', ylabel='Sub-Category'>"
      ]
     },
     "execution_count": 144,
     "metadata": {},
     "output_type": "execute_result"
    },
    {
     "data": {
      "image/png": "[encoded data removed]",
      "text/plain": [
       "<Figure size 640x480 with 1 Axes>"
      ]
     },
     "metadata": {},
     "output_type": "display_data"
    }
   ],
   "source": [
    "sns.barplot(data=new_df,x='Sales',y='Sub-Category',hue='Year',orient='h')"
   ]
  },
  {
   "cell_type": "code",
   "execution_count": 153,
   "id": "d980807b",
   "metadata": {},
   "outputs": [
    {
     "data": {
      "text/plain": [
       "<AxesSubplot:xlabel='Year', ylabel='Sales'>"
      ]
     },
     "execution_count": 153,
     "metadata": {},
     "output_type": "execute_result"
    },
    {
     "data": {
      "image/png": "[encoded data removed]",
      "text/plain": [
       "<Figure size 640x480 with 1 Axes>"
      ]
     },
     "metadata": {},
     "output_type": "display_data"
    }
   ],
   "source": [
    "may_flights = new_df.query('Month == 1')\n",
    "sns.lineplot(data=may_flights, x=\"Year\", y=\"Sales\")"
   ]
  },
  {
   "cell_type": "code",
   "execution_count": 160,
   "id": "cd4c7336",
   "metadata": {},
   "outputs": [
    {
     "data": {
      "text/plain": [
       "<AxesSubplot:xlabel='Year', ylabel='Sales'>"
      ]
     },
     "execution_count": 160,
     "metadata": {},
     "output_type": "execute_result"
    },
    {
     "data": {
      "image/png": "[encoded data removed]",
      "text/plain": [
       "<Figure size 640x480 with 1 Axes>"
      ]
     },
     "metadata": {},
     "output_type": "display_data"
    }
   ],
   "source": [
    "may_flights = new_df.query('Month == 12')\n",
    "sns.lineplot(data=may_flights, x=\"Year\", y=\"Sales\")\n",
    "\n"
   ]
  },
  {
   "cell_type": "code",
   "execution_count": 161,
   "id": "44c7ab29",
   "metadata": {},
   "outputs": [
    {
     "data": {
      "text/plain": [
       "<AxesSubplot:xlabel='Year', ylabel='Sales'>"
      ]
     },
     "execution_count": 161,
     "metadata": {},
     "output_type": "execute_result"
    },
    {
     "data": {
      "image/png": "[encoded data removed]",
      "text/plain": [
       "<Figure size 640x480 with 1 Axes>"
      ]
     },
     "metadata": {},
     "output_type": "display_data"
    }
   ],
   "source": [
    "may_flights = new_df.query('Month == 8')\n",
    "sns.lineplot(data=may_flights, x=\"Year\", y=\"Sales\")\n"
   ]
  },
  {
   "cell_type": "code",
   "execution_count": 194,
   "id": "9dbb0879",
   "metadata": {},
   "outputs": [],
   "source": [
    "sales_per_month = new_df.pivot_table(index='Year',columns='Month',values='Sa les').reset_index()"
   ]
  },
  {
   "cell_type": "code",
   "execution_count": 216,
   "id": "226e261b",
   "metadata": {},
   "outputs": [
    {
     "data": {
      "text/html": [
       "<div>\n",
       "<style scoped>\n",
       "    .dataframe tbody tr th:only-of-type {\n",
       "        vertical-align: middle;\n",
       "    }\n",
       "\n",
       "    .dataframe tbody tr th {\n",
       "        vertical-align: top;\n",
       "    }\n",
       "\n",
       "    .dataframe thead th {\n",
       "        text-align: right;\n",
       "    }\n",
       "</style>\n",
       "<table border=\"1\" class=\"dataframe\">\n",
       "  <thead>\n",
       "    <tr style=\"text-align: right;\">\n",
       "      <th>Month</th>\n",
       "      <th>1</th>\n",
       "      <th>2</th>\n",
       "      <th>3</th>\n",
       "      <th>4</th>\n",
       "      <th>5</th>\n",
       "      <th>6</th>\n",
       "      <th>7</th>\n",
       "      <th>8</th>\n",
       "      <th>9</th>\n",
       "      <th>10</th>\n",
       "      <th>11</th>\n",
       "      <th>12</th>\n",
       "    </tr>\n",
       "    <tr>\n",
       "      <th>Year</th>\n",
       "      <th></th>\n",
       "      <th></th>\n",
       "      <th></th>\n",
       "      <th></th>\n",
       "      <th></th>\n",
       "      <th></th>\n",
       "      <th></th>\n",
       "      <th></th>\n",
       "      <th></th>\n",
       "      <th></th>\n",
       "      <th></th>\n",
       "      <th></th>\n",
       "    </tr>\n",
       "  </thead>\n",
       "  <tbody>\n",
       "    <tr>\n",
       "      <th>2014</th>\n",
       "      <td>346.806944</td>\n",
       "      <td>262.808286</td>\n",
       "      <td>582.958240</td>\n",
       "      <td>378.325571</td>\n",
       "      <td>314.217591</td>\n",
       "      <td>489.115763</td>\n",
       "      <td>416.194269</td>\n",
       "      <td>318.275935</td>\n",
       "      <td>580.889776</td>\n",
       "      <td>424.284379</td>\n",
       "      <td>440.099443</td>\n",
       "      <td>567.517898</td>\n",
       "    </tr>\n",
       "    <tr>\n",
       "      <th>2015</th>\n",
       "      <td>903.072431</td>\n",
       "      <td>313.437400</td>\n",
       "      <td>543.468826</td>\n",
       "      <td>374.132089</td>\n",
       "      <td>347.220389</td>\n",
       "      <td>350.644500</td>\n",
       "      <td>441.110323</td>\n",
       "      <td>385.543688</td>\n",
       "      <td>547.354646</td>\n",
       "      <td>400.887450</td>\n",
       "      <td>506.243156</td>\n",
       "      <td>435.581494</td>\n",
       "    </tr>\n",
       "    <tr>\n",
       "      <th>2016</th>\n",
       "      <td>381.137150</td>\n",
       "      <td>230.914765</td>\n",
       "      <td>400.034125</td>\n",
       "      <td>455.589310</td>\n",
       "      <td>431.995286</td>\n",
       "      <td>484.095259</td>\n",
       "      <td>421.565129</td>\n",
       "      <td>567.419650</td>\n",
       "      <td>389.469727</td>\n",
       "      <td>282.680405</td>\n",
       "      <td>557.607523</td>\n",
       "      <td>516.601620</td>\n",
       "    </tr>\n",
       "    <tr>\n",
       "      <th>2017</th>\n",
       "      <td>259.305739</td>\n",
       "      <td>298.536409</td>\n",
       "      <td>351.401445</td>\n",
       "      <td>274.726003</td>\n",
       "      <td>385.399050</td>\n",
       "      <td>475.214668</td>\n",
       "      <td>274.721442</td>\n",
       "      <td>428.940944</td>\n",
       "      <td>537.559370</td>\n",
       "      <td>377.311521</td>\n",
       "      <td>544.951691</td>\n",
       "      <td>413.256142</td>\n",
       "    </tr>\n",
       "  </tbody>\n",
       "</table>\n",
       "</div>"
      ],
      "text/plain": [
       "Month           1           2           3           4           5           6  \\\n",
       "Year                                                                            \n",
       "2014   346.806944  262.808286  582.958240  378.325571  314.217591  489.115763   \n",
       "2015   903.072431  313.437400  543.468826  374.132089  347.220389  350.644500   \n",
       "2016   381.137150  230.914765  400.034125  455.589310  431.995286  484.095259   \n",
       "2017   259.305739  298.536409  351.401445  274.726003  385.399050  475.214668   \n",
       "\n",
       "Month           7           8           9          10          11          12  \n",
       "Year                                                                           \n",
       "2014   416.194269  318.275935  580.889776  424.284379  440.099443  567.517898  \n",
       "2015   441.110323  385.543688  547.354646  400.887450  506.243156  435.581494  \n",
       "2016   421.565129  567.419650  389.469727  282.680405  557.607523  516.601620  \n",
       "2017   274.721442  428.940944  537.559370  377.311521  544.951691  413.256142  "
      ]
     },
     "execution_count": 216,
     "metadata": {},
     "output_type": "execute_result"
    }
   ],
   "source": [
    "sales_per_month.set_index('Year')"
   ]
  },
  {
   "cell_type": "code",
   "execution_count": 217,
   "id": "54f11d82",
   "metadata": {},
   "outputs": [
    {
     "data": {
      "text/plain": [
       "<AxesSubplot:xlabel='Month'>"
      ]
     },
     "execution_count": 217,
     "metadata": {},
     "output_type": "execute_result"
    },
    {
     "data": {
      "image/png": "[encoded data removed]",
      "text/plain": [
       "<Figure size 1500x800 with 2 Axes>"
      ]
     },
     "metadata": {},
     "output_type": "display_data"
    }
   ],
   "source": [
    "plt.figure(figsize=(15, 8))\n",
    "sns.heatmap(sales_per_month,annot=True, fmt=\".1f\")"
   ]
  },
  {
   "cell_type": "code",
   "execution_count": 218,
   "id": "7e964a5b",
   "metadata": {},
   "outputs": [
    {
     "data": {
      "text/plain": [
       "<AxesSubplot:xlabel='Month', ylabel='Sales'>"
      ]
     },
     "execution_count": 218,
     "metadata": {},
     "output_type": "execute_result"
    },
    {
     "data": {
      "image/png": "[encoded data removed]",
      "text/plain": [
       "<Figure size 640x480 with 1 Axes>"
      ]
     },
     "metadata": {},
     "output_type": "display_data"
    }
   ],
   "source": [
    "sns.set_style('white')\n",
    "sns.lineplot(data = new_df,x='Month',y='Sales',hue='Year')"
   ]
  },
  {
   "cell_type": "code",
   "execution_count": 219,
   "id": "999e50e6",
   "metadata": {},
   "outputs": [
    {
     "data": {
      "text/html": [
       "<div>\n",
       "<style scoped>\n",
       "    .dataframe tbody tr th:only-of-type {\n",
       "        vertical-align: middle;\n",
       "    }\n",
       "\n",
       "    .dataframe tbody tr th {\n",
       "        vertical-align: top;\n",
       "    }\n",
       "\n",
       "    .dataframe thead th {\n",
       "        text-align: right;\n",
       "    }\n",
       "</style>\n",
       "<table border=\"1\" class=\"dataframe\">\n",
       "  <thead>\n",
       "    <tr style=\"text-align: right;\">\n",
       "      <th></th>\n",
       "      <th>Region</th>\n",
       "      <th>City</th>\n",
       "      <th>Year</th>\n",
       "      <th>Month</th>\n",
       "      <th>Category</th>\n",
       "      <th>Sub-Category</th>\n",
       "      <th>Sales</th>\n",
       "    </tr>\n",
       "  </thead>\n",
       "  <tbody>\n",
       "    <tr>\n",
       "      <th>0</th>\n",
       "      <td>Central</td>\n",
       "      <td>Allen</td>\n",
       "      <td>2015</td>\n",
       "      <td>5</td>\n",
       "      <td>Furniture</td>\n",
       "      <td>Tables</td>\n",
       "      <td>244.0060</td>\n",
       "    </tr>\n",
       "    <tr>\n",
       "      <th>1</th>\n",
       "      <td>Central</td>\n",
       "      <td>Amarillo</td>\n",
       "      <td>2015</td>\n",
       "      <td>10</td>\n",
       "      <td>Furniture</td>\n",
       "      <td>Chairs</td>\n",
       "      <td>2453.4300</td>\n",
       "    </tr>\n",
       "    <tr>\n",
       "      <th>2</th>\n",
       "      <td>Central</td>\n",
       "      <td>Amarillo</td>\n",
       "      <td>2016</td>\n",
       "      <td>1</td>\n",
       "      <td>Furniture</td>\n",
       "      <td>Furnishings</td>\n",
       "      <td>23.0760</td>\n",
       "    </tr>\n",
       "    <tr>\n",
       "      <th>3</th>\n",
       "      <td>Central</td>\n",
       "      <td>Amarillo</td>\n",
       "      <td>2016</td>\n",
       "      <td>5</td>\n",
       "      <td>Furniture</td>\n",
       "      <td>Chairs</td>\n",
       "      <td>366.7440</td>\n",
       "    </tr>\n",
       "    <tr>\n",
       "      <th>4</th>\n",
       "      <td>Central</td>\n",
       "      <td>Amarillo</td>\n",
       "      <td>2017</td>\n",
       "      <td>3</td>\n",
       "      <td>Furniture</td>\n",
       "      <td>Bookcases</td>\n",
       "      <td>205.3328</td>\n",
       "    </tr>\n",
       "    <tr>\n",
       "      <th>...</th>\n",
       "      <td>...</td>\n",
       "      <td>...</td>\n",
       "      <td>...</td>\n",
       "      <td>...</td>\n",
       "      <td>...</td>\n",
       "      <td>...</td>\n",
       "      <td>...</td>\n",
       "    </tr>\n",
       "    <tr>\n",
       "      <th>1690</th>\n",
       "      <td>West</td>\n",
       "      <td>Vancouver</td>\n",
       "      <td>2017</td>\n",
       "      <td>10</td>\n",
       "      <td>Furniture</td>\n",
       "      <td>Furnishings</td>\n",
       "      <td>9.6400</td>\n",
       "    </tr>\n",
       "    <tr>\n",
       "      <th>1691</th>\n",
       "      <td>West</td>\n",
       "      <td>West Jordan</td>\n",
       "      <td>2015</td>\n",
       "      <td>11</td>\n",
       "      <td>Furniture</td>\n",
       "      <td>Furnishings</td>\n",
       "      <td>66.6900</td>\n",
       "    </tr>\n",
       "    <tr>\n",
       "      <th>1692</th>\n",
       "      <td>West</td>\n",
       "      <td>Westminster</td>\n",
       "      <td>2017</td>\n",
       "      <td>7</td>\n",
       "      <td>Furniture</td>\n",
       "      <td>Furnishings</td>\n",
       "      <td>295.5300</td>\n",
       "    </tr>\n",
       "    <tr>\n",
       "      <th>1693</th>\n",
       "      <td>West</td>\n",
       "      <td>Westminster</td>\n",
       "      <td>2017</td>\n",
       "      <td>8</td>\n",
       "      <td>Furniture</td>\n",
       "      <td>Chairs</td>\n",
       "      <td>207.1840</td>\n",
       "    </tr>\n",
       "    <tr>\n",
       "      <th>1694</th>\n",
       "      <td>West</td>\n",
       "      <td>Westminster</td>\n",
       "      <td>2017</td>\n",
       "      <td>8</td>\n",
       "      <td>Furniture</td>\n",
       "      <td>Furnishings</td>\n",
       "      <td>51.7500</td>\n",
       "    </tr>\n",
       "  </tbody>\n",
       "</table>\n",
       "<p>1695 rows × 7 columns</p>\n",
       "</div>"
      ],
      "text/plain": [
       "       Region         City  Year  Month   Category Sub-Category      Sales\n",
       "0     Central        Allen  2015      5  Furniture       Tables   244.0060\n",
       "1     Central     Amarillo  2015     10  Furniture       Chairs  2453.4300\n",
       "2     Central     Amarillo  2016      1  Furniture  Furnishings    23.0760\n",
       "3     Central     Amarillo  2016      5  Furniture       Chairs   366.7440\n",
       "4     Central     Amarillo  2017      3  Furniture    Bookcases   205.3328\n",
       "...       ...          ...   ...    ...        ...          ...        ...\n",
       "1690     West    Vancouver  2017     10  Furniture  Furnishings     9.6400\n",
       "1691     West  West Jordan  2015     11  Furniture  Furnishings    66.6900\n",
       "1692     West  Westminster  2017      7  Furniture  Furnishings   295.5300\n",
       "1693     West  Westminster  2017      8  Furniture       Chairs   207.1840\n",
       "1694     West  Westminster  2017      8  Furniture  Furnishings    51.7500\n",
       "\n",
       "[1695 rows x 7 columns]"
      ]
     },
     "execution_count": 219,
     "metadata": {},
     "output_type": "execute_result"
    }
   ],
   "source": [
    "new_df"
   ]
  },
  {
   "cell_type": "code",
   "execution_count": 220,
   "id": "16bcdb0a",
   "metadata": {},
   "outputs": [
    {
     "data": {
      "text/plain": [
       "Index(['Year', 1, 2, 3, 4, 5, 6, 7, 8, 9, 10, 11, 12], dtype='object', name='Month')"
      ]
     },
     "execution_count": 220,
     "metadata": {},
     "output_type": "execute_result"
    }
   ],
   "source": [
    "sales_per_month.columns"
   ]
  },
  {
   "cell_type": "code",
   "execution_count": null,
   "id": "d26c269d",
   "metadata": {},
   "outputs": [],
   "source": []
  }
 ],
 "metadata": {
  "kernelspec": {
   "display_name": "Python 3 (ipykernel)",
   "language": "python",
   "name": "python3"
  },
  "language_info": {
   "codemirror_mode": {
    "name": "ipython",
    "version": 3
   },
   "file_extension": ".py",
   "mimetype": "text/x-python",
   "name": "python",
   "nbconvert_exporter": "python",
   "pygments_lexer": "ipython3",
   "version": "3.9.13"
  }
 },
 "nbformat": 4,
 "nbformat_minor": 5
}
